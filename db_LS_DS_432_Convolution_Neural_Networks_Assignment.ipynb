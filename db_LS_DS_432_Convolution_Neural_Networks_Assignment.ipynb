{
  "nbformat": 4,
  "nbformat_minor": 0,
  "metadata": {
    "kernelspec": {
      "display_name": "U4-S2-NNF-DS10",
      "language": "python",
      "name": "u4-s2-nnf-ds10"
    },
    "language_info": {
      "codemirror_mode": {
        "name": "ipython",
        "version": 3
      },
      "file_extension": ".py",
      "mimetype": "text/x-python",
      "name": "python",
      "nbconvert_exporter": "python",
      "pygments_lexer": "ipython3",
      "version": "3.7.6"
    },
    "nteract": {
      "version": "0.23.1"
    },
    "colab": {
      "name": "db_LS_DS_432_Convolution_Neural_Networks_Assignment.ipynb",
      "provenance": [],
      "collapsed_sections": [],
      "include_colab_link": true
    },
    "accelerator": "GPU"
  },
  "cells": [
    {
      "cell_type": "markdown",
      "metadata": {
        "id": "view-in-github",
        "colab_type": "text"
      },
      "source": [
        "<a href=\"https://colab.research.google.com/github/Daniel-Benson-Poe/DS-Unit-4-Sprint-3-Deep-Learning/blob/master/db_LS_DS_432_Convolution_Neural_Networks_Assignment.ipynb\" target=\"_parent\"><img src=\"https://colab.research.google.com/assets/colab-badge.svg\" alt=\"Open In Colab\"/></a>"
      ]
    },
    {
      "cell_type": "markdown",
      "metadata": {
        "id": "rgC3qIlR2m-6",
        "colab_type": "text"
      },
      "source": [
        "<img align=\"left\" src=\"https://lever-client-logos.s3.amazonaws.com/864372b1-534c-480e-acd5-9711f850815c-1524247202159.png\" width=200>\n",
        "<br></br>\n",
        "<br></br>\n",
        "\n",
        "## *Data Science Unit 4 Sprint 3 Assignment 2*\n",
        "# Convolutional Neural Networks (CNNs)"
      ]
    },
    {
      "cell_type": "markdown",
      "metadata": {
        "colab_type": "text",
        "id": "0lfZdD_cp1t5"
      },
      "source": [
        "# Assignment\n",
        "\n",
        "- <a href=\"#p1\">Part 1:</a> Pre-Trained Model\n",
        "- <a href=\"#p2\">Part 2:</a> Custom CNN Model\n",
        "- <a href=\"#p3\">Part 3:</a> CNN with Data Augmentation\n",
        "\n",
        "\n",
        "You will apply three different CNN models to a binary image classification model using Keras. Classify images of Mountains (`./data/train/mountain/*`) and images of forests (`./data/train/forest/*`). Treat mountains as the positive class (1) and the forest images as the negative (zero). \n",
        "\n",
        "|Mountain (+)|Forest (-)|\n",
        "|---|---|\n",
        "|![](https://github.com/Daniel-Benson-Poe/DS-Unit-4-Sprint-3-Deep-Learning/blob/master/module2-convolutional-neural-networks/data/train/mountain/art1131.jpg?raw=1)|![](https://github.com/Daniel-Benson-Poe/DS-Unit-4-Sprint-3-Deep-Learning/blob/master/module2-convolutional-neural-networks/data/validation/forest/cdmc317.jpg?raw=1)|\n",
        "\n",
        "The problem is relatively difficult given that the sample is tiny: there are about 350 observations per class. This sample size might be something that you can expect with prototyping an image classification problem/solution at work. Get accustomed to evaluating several different possible models."
      ]
    },
    {
      "cell_type": "markdown",
      "metadata": {
        "colab_type": "text",
        "id": "afSD2phw2m-8"
      },
      "source": [
        "# Pre - Trained Model\n",
        "<a id=\"p1\"></a>\n",
        "\n",
        "Load a pretrained network from Keras, [ResNet50](https://tfhub.dev/google/imagenet/resnet_v1_50/classification/1) - a 50 layer deep network trained to recognize [1000 objects](https://storage.googleapis.com/download.tensorflow.org/data/ImageNetLabels.txt). Starting usage:\n",
        "\n",
        "```python\n",
        "import numpy as np\n",
        "\n",
        "from tensorflow.keras.applications.resnet50 import ResNet50\n",
        "from tensorflow.keras.preprocessing import image\n",
        "from tensorflow.keras.applications.resnet50 import preprocess_input, decode_predictions\n",
        "\n",
        "from tensorflow.keras.layers import Dense, GlobalAveragePooling2D\n",
        "from tensorflow.keras.models import Model # This is the functional API\n",
        "\n",
        "resnet = ResNet50(weights='imagenet', include_top=False)\n",
        "\n",
        "```\n",
        "\n",
        "The `include_top` parameter in `ResNet50` will remove the full connected layers from the ResNet model. The next step is to turn off the training of the ResNet layers. We want to use the learned parameters without updating them in future training passes. \n",
        "\n",
        "```python\n",
        "for layer in resnet.layers:\n",
        "    layer.trainable = False\n",
        "```\n",
        "\n",
        "Using the Keras functional API, we will need to additional additional full connected layers to our model. We we removed the top layers, we removed all preivous fully connected layers. In other words, we kept only the feature processing portions of our network. You can expert with additional layers beyond what's listed here. The `GlobalAveragePooling2D` layer functions as a really fancy flatten function by taking the average of each of the last convolutional layer outputs (which is two dimensional still). \n",
        "\n",
        "```python\n",
        "x = resnet.output\n",
        "x = GlobalAveragePooling2D()(x) # This layer is a really fancy flatten\n",
        "x = Dense(1024, activation='relu')(x)\n",
        "predictions = Dense(1, activation='sigmoid')(x)\n",
        "model = Model(resnet.input, predictions)\n",
        "```\n",
        "\n",
        "Your assignment is to apply the transfer learning above to classify images of Mountains (`./data/train/mountain/*`) and images of forests (`./data/train/forest/*`). Treat mountains as the positive class (1) and the forest images as the negative (zero). \n",
        "\n",
        "Steps to complete assignment: \n",
        "1. Load in Image Data into numpy arrays (`X`) \n",
        "2. Create a `y` for the labels\n",
        "3. Train your model with pre-trained layers from resnet\n",
        "4. Report your model's accuracy"
      ]
    },
    {
      "cell_type": "markdown",
      "metadata": {
        "id": "Leq0He-x2m-9",
        "colab_type": "text"
      },
      "source": [
        "## Load in Data\n",
        "\n",
        "This surprisingly more difficult than it seems, because you are working with directories of images instead of a single file. This boiler plate will help you download a zipped version of the directory of images. The directory is organized into \"train\" and \"validation\" which you can use inside an `ImageGenerator` class to stream batches of images thru your model.  \n"
      ]
    },
    {
      "cell_type": "markdown",
      "metadata": {
        "id": "QvXOVFeM2m--",
        "colab_type": "text"
      },
      "source": [
        "### Download & Summarize the Data\n",
        "\n",
        "This step is completed for you. Just run the cells and review the results. "
      ]
    },
    {
      "cell_type": "code",
      "metadata": {
        "id": "SzwW8joZ2m-_",
        "colab_type": "code",
        "colab": {
          "base_uri": "https://localhost:8080/",
          "height": 52
        },
        "outputId": "c3938992-3344-45c1-f23b-f36e20843452"
      },
      "source": [
        "import tensorflow as tf\n",
        "import os\n",
        "\n",
        "_URL = 'https://github.com/LambdaSchool/DS-Unit-4-Sprint-3-Deep-Learning/blob/master/module2-convolutional-neural-networks/data.zip?raw=true'\n",
        "\n",
        "path_to_zip = tf.keras.utils.get_file('./data.zip', origin=_URL, extract=True)\n",
        "PATH = os.path.join(os.path.dirname(path_to_zip), 'data')"
      ],
      "execution_count": 2,
      "outputs": [
        {
          "output_type": "stream",
          "text": [
            "Downloading data from https://github.com/LambdaSchool/DS-Unit-4-Sprint-3-Deep-Learning/blob/master/module2-convolutional-neural-networks/data.zip?raw=true\n",
            "42172416/42170838 [==============================] - 0s 0us/step\n"
          ],
          "name": "stdout"
        }
      ]
    },
    {
      "cell_type": "code",
      "metadata": {
        "id": "4Q7xycem2m_E",
        "colab_type": "code",
        "colab": {}
      },
      "source": [
        "train_dir = os.path.join(PATH, 'train')\n",
        "validation_dir = os.path.join(PATH, 'validation')"
      ],
      "execution_count": 3,
      "outputs": []
    },
    {
      "cell_type": "code",
      "metadata": {
        "id": "s0rBKd9Q2m_I",
        "colab_type": "code",
        "colab": {}
      },
      "source": [
        "train_mountain_dir = os.path.join(train_dir, 'mountain')  # directory with our training cat pictures\n",
        "train_forest_dir = os.path.join(train_dir, 'forest')  # directory with our training dog pictures\n",
        "validation_mountain_dir = os.path.join(validation_dir, 'mountain')  # directory with our validation cat pictures\n",
        "validation_forest_dir = os.path.join(validation_dir, 'forest')  # directory with our validation dog pictures"
      ],
      "execution_count": 4,
      "outputs": []
    },
    {
      "cell_type": "code",
      "metadata": {
        "id": "1TYNBWCt2m_L",
        "colab_type": "code",
        "colab": {}
      },
      "source": [
        "num_mountain_tr = len(os.listdir(train_mountain_dir))\n",
        "num_forest_tr = len(os.listdir(train_forest_dir))\n",
        "\n",
        "num_mountain_val = len(os.listdir(validation_mountain_dir))\n",
        "num_forest_val = len(os.listdir(validation_forest_dir))\n",
        "\n",
        "total_train = num_mountain_tr + num_forest_tr\n",
        "total_val = num_mountain_val + num_forest_val"
      ],
      "execution_count": 5,
      "outputs": []
    },
    {
      "cell_type": "code",
      "metadata": {
        "id": "PhQMzaEF2m_O",
        "colab_type": "code",
        "colab": {
          "base_uri": "https://localhost:8080/",
          "height": 138
        },
        "outputId": "65d02aae-13cf-406d-b371-cdb209fc845b"
      },
      "source": [
        "print('total training mountain images:', num_mountain_tr)\n",
        "print('total training forest images:', num_forest_tr)\n",
        "\n",
        "print('total validation mountain images:', num_mountain_val)\n",
        "print('total validation forest images:', num_forest_val)\n",
        "print(\"--\")\n",
        "print(\"Total training images:\", total_train)\n",
        "print(\"Total validation images:\", total_val)"
      ],
      "execution_count": 6,
      "outputs": [
        {
          "output_type": "stream",
          "text": [
            "total training mountain images: 254\n",
            "total training forest images: 270\n",
            "total validation mountain images: 125\n",
            "total validation forest images: 62\n",
            "--\n",
            "Total training images: 524\n",
            "Total validation images: 187\n"
          ],
          "name": "stdout"
        }
      ]
    },
    {
      "cell_type": "markdown",
      "metadata": {
        "id": "BmBqUYo32m_R",
        "colab_type": "text"
      },
      "source": [
        "### Keras `ImageGenerator` to Process the Data\n",
        "\n",
        "This step is completed for you, but please review the code. The `ImageGenerator` class reads in batches of data from a directory and pass them to the model one batch at a time. Just like large text files, this method is advantageous, because it stifles the need to load a bunch of images into memory. \n",
        "\n",
        "Check out the documentation for this class method: [Keras `ImageGenerator` Class](https://keras.io/preprocessing/image/#imagedatagenerator-class). You'll expand it's use in the third assignment objective."
      ]
    },
    {
      "cell_type": "code",
      "metadata": {
        "id": "SZHS49hR2m_S",
        "colab_type": "code",
        "colab": {}
      },
      "source": [
        "batch_size = 16\n",
        "epochs = 100\n",
        "IMG_HEIGHT = 224\n",
        "IMG_WIDTH = 224"
      ],
      "execution_count": 7,
      "outputs": []
    },
    {
      "cell_type": "code",
      "metadata": {
        "id": "l6Vb_1IJ2m_W",
        "colab_type": "code",
        "colab": {}
      },
      "source": [
        "from tensorflow.keras.preprocessing.image import ImageDataGenerator\n",
        "\n",
        "train_image_generator = ImageDataGenerator(rescale=1./255) # Generator for our training data\n",
        "validation_image_generator = ImageDataGenerator(rescale=1./255) # Generator for our validation data"
      ],
      "execution_count": 8,
      "outputs": []
    },
    {
      "cell_type": "code",
      "metadata": {
        "id": "2PjkZVBX2m_Z",
        "colab_type": "code",
        "colab": {
          "base_uri": "https://localhost:8080/",
          "height": 34
        },
        "outputId": "43e565d3-539c-4da3-d03d-3a944182aa44"
      },
      "source": [
        "train_data_gen = train_image_generator.flow_from_directory(batch_size=batch_size,\n",
        "                                                           directory=train_dir,\n",
        "                                                           shuffle=True,\n",
        "                                                           target_size=(IMG_HEIGHT, IMG_WIDTH),\n",
        "                                                           class_mode='binary')"
      ],
      "execution_count": 9,
      "outputs": [
        {
          "output_type": "stream",
          "text": [
            "Found 533 images belonging to 2 classes.\n"
          ],
          "name": "stdout"
        }
      ]
    },
    {
      "cell_type": "code",
      "metadata": {
        "id": "Zrwv4rtXQD8J",
        "colab_type": "code",
        "colab": {
          "base_uri": "https://localhost:8080/",
          "height": 450
        },
        "outputId": "a4ab417c-04c7-4b44-f97a-77d713a90447"
      },
      "source": [
        "y_train_labels = train_data_gen.labels\n",
        "y_train_labels"
      ],
      "execution_count": 10,
      "outputs": [
        {
          "output_type": "execute_result",
          "data": {
            "text/plain": [
              "array([0, 0, 0, 0, 0, 0, 0, 0, 0, 0, 0, 0, 0, 0, 0, 0, 0, 0, 0, 0, 0, 0,\n",
              "       0, 0, 0, 0, 0, 0, 0, 0, 0, 0, 0, 0, 0, 0, 0, 0, 0, 0, 0, 0, 0, 0,\n",
              "       0, 0, 0, 0, 0, 0, 0, 0, 0, 0, 0, 0, 0, 0, 0, 0, 0, 0, 0, 0, 0, 0,\n",
              "       0, 0, 0, 0, 0, 0, 0, 0, 0, 0, 0, 0, 0, 0, 0, 0, 0, 0, 0, 0, 0, 0,\n",
              "       0, 0, 0, 0, 0, 0, 0, 0, 0, 0, 0, 0, 0, 0, 0, 0, 0, 0, 0, 0, 0, 0,\n",
              "       0, 0, 0, 0, 0, 0, 0, 0, 0, 0, 0, 0, 0, 0, 0, 0, 0, 0, 0, 0, 0, 0,\n",
              "       0, 0, 0, 0, 0, 0, 0, 0, 0, 0, 0, 0, 0, 0, 0, 0, 0, 0, 0, 0, 0, 0,\n",
              "       0, 0, 0, 0, 0, 0, 0, 0, 0, 0, 0, 0, 0, 0, 0, 0, 0, 0, 0, 0, 0, 0,\n",
              "       0, 0, 0, 0, 0, 0, 0, 0, 0, 0, 0, 0, 0, 0, 0, 0, 0, 0, 0, 0, 0, 0,\n",
              "       0, 0, 0, 0, 0, 0, 0, 0, 0, 0, 0, 0, 0, 0, 0, 0, 0, 0, 0, 0, 0, 0,\n",
              "       0, 0, 0, 0, 0, 0, 0, 0, 0, 0, 0, 0, 0, 0, 0, 0, 0, 0, 0, 0, 0, 0,\n",
              "       0, 0, 0, 0, 0, 0, 0, 0, 0, 0, 0, 0, 0, 0, 0, 0, 0, 0, 0, 0, 0, 0,\n",
              "       0, 0, 0, 0, 0, 0, 0, 0, 0, 0, 0, 1, 1, 1, 1, 1, 1, 1, 1, 1, 1, 1,\n",
              "       1, 1, 1, 1, 1, 1, 1, 1, 1, 1, 1, 1, 1, 1, 1, 1, 1, 1, 1, 1, 1, 1,\n",
              "       1, 1, 1, 1, 1, 1, 1, 1, 1, 1, 1, 1, 1, 1, 1, 1, 1, 1, 1, 1, 1, 1,\n",
              "       1, 1, 1, 1, 1, 1, 1, 1, 1, 1, 1, 1, 1, 1, 1, 1, 1, 1, 1, 1, 1, 1,\n",
              "       1, 1, 1, 1, 1, 1, 1, 1, 1, 1, 1, 1, 1, 1, 1, 1, 1, 1, 1, 1, 1, 1,\n",
              "       1, 1, 1, 1, 1, 1, 1, 1, 1, 1, 1, 1, 1, 1, 1, 1, 1, 1, 1, 1, 1, 1,\n",
              "       1, 1, 1, 1, 1, 1, 1, 1, 1, 1, 1, 1, 1, 1, 1, 1, 1, 1, 1, 1, 1, 1,\n",
              "       1, 1, 1, 1, 1, 1, 1, 1, 1, 1, 1, 1, 1, 1, 1, 1, 1, 1, 1, 1, 1, 1,\n",
              "       1, 1, 1, 1, 1, 1, 1, 1, 1, 1, 1, 1, 1, 1, 1, 1, 1, 1, 1, 1, 1, 1,\n",
              "       1, 1, 1, 1, 1, 1, 1, 1, 1, 1, 1, 1, 1, 1, 1, 1, 1, 1, 1, 1, 1, 1,\n",
              "       1, 1, 1, 1, 1, 1, 1, 1, 1, 1, 1, 1, 1, 1, 1, 1, 1, 1, 1, 1, 1, 1,\n",
              "       1, 1, 1, 1, 1, 1, 1, 1, 1, 1, 1, 1, 1, 1, 1, 1, 1, 1, 1, 1, 1, 1,\n",
              "       1, 1, 1, 1, 1], dtype=int32)"
            ]
          },
          "metadata": {
            "tags": []
          },
          "execution_count": 10
        }
      ]
    },
    {
      "cell_type": "code",
      "metadata": {
        "id": "T3Op0tI82m_d",
        "colab_type": "code",
        "colab": {
          "base_uri": "https://localhost:8080/",
          "height": 34
        },
        "outputId": "69eef99d-f289-4f71-fccb-e52d9d288c68"
      },
      "source": [
        "val_data_gen = validation_image_generator.flow_from_directory(batch_size=batch_size,\n",
        "                                                              directory=validation_dir,\n",
        "                                                              target_size=(IMG_HEIGHT, IMG_WIDTH),\n",
        "                                                              class_mode='binary')"
      ],
      "execution_count": 11,
      "outputs": [
        {
          "output_type": "stream",
          "text": [
            "Found 195 images belonging to 2 classes.\n"
          ],
          "name": "stdout"
        }
      ]
    },
    {
      "cell_type": "code",
      "metadata": {
        "id": "D45mjnycQmLr",
        "colab_type": "code",
        "colab": {
          "base_uri": "https://localhost:8080/",
          "height": 190
        },
        "outputId": "9360fe75-7b65-4834-8166-046e5e00c81a"
      },
      "source": [
        "y_val_labels = val_data_gen.labels\n",
        "y_val_labels"
      ],
      "execution_count": 12,
      "outputs": [
        {
          "output_type": "execute_result",
          "data": {
            "text/plain": [
              "array([0, 0, 0, 0, 0, 0, 0, 0, 0, 0, 0, 0, 0, 0, 0, 0, 0, 0, 0, 0, 0, 0,\n",
              "       0, 0, 0, 0, 0, 0, 0, 0, 0, 0, 0, 0, 0, 0, 0, 0, 0, 0, 0, 0, 0, 0,\n",
              "       0, 0, 0, 0, 0, 0, 0, 0, 0, 0, 0, 0, 0, 0, 0, 0, 0, 0, 0, 0, 0, 0,\n",
              "       0, 1, 1, 1, 1, 1, 1, 1, 1, 1, 1, 1, 1, 1, 1, 1, 1, 1, 1, 1, 1, 1,\n",
              "       1, 1, 1, 1, 1, 1, 1, 1, 1, 1, 1, 1, 1, 1, 1, 1, 1, 1, 1, 1, 1, 1,\n",
              "       1, 1, 1, 1, 1, 1, 1, 1, 1, 1, 1, 1, 1, 1, 1, 1, 1, 1, 1, 1, 1, 1,\n",
              "       1, 1, 1, 1, 1, 1, 1, 1, 1, 1, 1, 1, 1, 1, 1, 1, 1, 1, 1, 1, 1, 1,\n",
              "       1, 1, 1, 1, 1, 1, 1, 1, 1, 1, 1, 1, 1, 1, 1, 1, 1, 1, 1, 1, 1, 1,\n",
              "       1, 1, 1, 1, 1, 1, 1, 1, 1, 1, 1, 1, 1, 1, 1, 1, 1, 1, 1],\n",
              "      dtype=int32)"
            ]
          },
          "metadata": {
            "tags": []
          },
          "execution_count": 12
        }
      ]
    },
    {
      "cell_type": "markdown",
      "metadata": {
        "id": "AVs0UQK22m_g",
        "colab_type": "text"
      },
      "source": [
        "## Instatiate Model"
      ]
    },
    {
      "cell_type": "code",
      "metadata": {
        "id": "5hMSLTu22m_h",
        "colab_type": "code",
        "colab": {}
      },
      "source": [
        "import numpy as np\n",
        "from tensorflow.keras.applications.resnet50 import ResNet50\n",
        "from tensorflow.keras.preprocessing import image\n",
        "from tensorflow.keras.applications.resnet50 import preprocess_input, decode_predictions\n",
        "from tensorflow.keras.layers import Dense, GlobalAveragePooling2D, Conv2D, MaxPooling2D, Dropout\n",
        "from tensorflow.keras.models import Model, Sequential # This is the functional API\n",
        " \n",
        "resnet = ResNet50(weights='imagenet', include_top=False)\n",
        "\n",
        "for layer in resnet.layers:\n",
        "    layer.trainable = False\n",
        "\n",
        "x = resnet.output\n",
        "x = GlobalAveragePooling2D()(x) # This layer is a really fancy flatten\n",
        "x = Dense(1024, activation='relu')(x)\n",
        "predictions = Dense(1, activation='sigmoid')(x)\n",
        "model = Model(resnet.input, predictions)\n",
        "\n",
        "import tensorflow as tf\n",
        "from tensorflow.keras.callbacks import LearningRateScheduler, TensorBoard\n",
        "\n",
        "import os\n",
        "\n",
        "def scheduler(epoch):\n",
        "  if epoch < 10:\n",
        "    return 0.001\n",
        "  else:\n",
        "    return 0.001 * tf.math.exp(0.1 * (10 - epoch))\n",
        "\n",
        "lrs = LearningRateScheduler(scheduler)\n",
        "logdir = os.path.join(\"/logs\",\"adadelta\" )\n",
        "\n",
        "model.compile(optimizer='adadelta',\n",
        "              loss='binary_crossentropy',\n",
        "              metrics=['accuracy'])"
      ],
      "execution_count": 42,
      "outputs": []
    },
    {
      "cell_type": "markdown",
      "metadata": {
        "id": "yMp5CoZQ2m_k",
        "colab_type": "text"
      },
      "source": [
        "## Fit Model"
      ]
    },
    {
      "cell_type": "code",
      "metadata": {
        "id": "JRYIAOZa2m_l",
        "colab_type": "code",
        "colab": {
          "base_uri": "https://localhost:8080/",
          "height": 1000
        },
        "outputId": "c5a9b802-5117-4047-c7cb-1af4a8fca3bb"
      },
      "source": [
        "history = model.fit(\n",
        "    train_data_gen,\n",
        "    steps_per_epoch=total_train // batch_size,\n",
        "    epochs=epochs,\n",
        "    validation_data=val_data_gen,\n",
        "    validation_steps=total_val // batch_size,\n",
        "    callbacks=[lrs]\n",
        ")"
      ],
      "execution_count": 13,
      "outputs": [
        {
          "output_type": "stream",
          "text": [
            "Epoch 1/50\n",
            "32/32 [==============================] - 4s 114ms/step - loss: 0.8409 - accuracy: 0.5110 - val_loss: 0.9779 - val_accuracy: 0.3693 - lr: 0.0010\n",
            "Epoch 2/50\n",
            "32/32 [==============================] - 2s 78ms/step - loss: 0.7991 - accuracy: 0.5190 - val_loss: 0.9688 - val_accuracy: 0.3295 - lr: 0.0010\n",
            "Epoch 3/50\n",
            "32/32 [==============================] - 2s 77ms/step - loss: 0.7778 - accuracy: 0.5137 - val_loss: 0.9109 - val_accuracy: 0.3409 - lr: 0.0010\n",
            "Epoch 4/50\n",
            "32/32 [==============================] - 2s 77ms/step - loss: 0.7530 - accuracy: 0.5170 - val_loss: 0.8719 - val_accuracy: 0.3409 - lr: 0.0010\n",
            "Epoch 5/50\n",
            "32/32 [==============================] - 2s 78ms/step - loss: 0.7388 - accuracy: 0.5137 - val_loss: 0.8462 - val_accuracy: 0.3295 - lr: 0.0010\n",
            "Epoch 6/50\n",
            "32/32 [==============================] - 3s 79ms/step - loss: 0.7258 - accuracy: 0.5130 - val_loss: 0.8065 - val_accuracy: 0.3523 - lr: 0.0010\n",
            "Epoch 7/50\n",
            "32/32 [==============================] - 2s 78ms/step - loss: 0.7140 - accuracy: 0.5170 - val_loss: 0.7889 - val_accuracy: 0.3466 - lr: 0.0010\n",
            "Epoch 8/50\n",
            "32/32 [==============================] - 2s 77ms/step - loss: 0.7081 - accuracy: 0.5150 - val_loss: 0.7663 - val_accuracy: 0.3580 - lr: 0.0010\n",
            "Epoch 9/50\n",
            "32/32 [==============================] - 2s 78ms/step - loss: 0.7027 - accuracy: 0.5150 - val_loss: 0.7551 - val_accuracy: 0.3466 - lr: 0.0010\n",
            "Epoch 10/50\n",
            "32/32 [==============================] - 3s 78ms/step - loss: 0.6970 - accuracy: 0.5210 - val_loss: 0.7441 - val_accuracy: 0.3466 - lr: 0.0010\n",
            "Epoch 11/50\n",
            "32/32 [==============================] - 3s 78ms/step - loss: 0.6968 - accuracy: 0.5130 - val_loss: 0.7332 - val_accuracy: 0.3466 - lr: 0.0010\n",
            "Epoch 12/50\n",
            "32/32 [==============================] - 3s 79ms/step - loss: 0.6946 - accuracy: 0.5130 - val_loss: 0.7244 - val_accuracy: 0.3580 - lr: 9.0484e-04\n",
            "Epoch 13/50\n",
            "32/32 [==============================] - 3s 80ms/step - loss: 0.6934 - accuracy: 0.5130 - val_loss: 0.7235 - val_accuracy: 0.3409 - lr: 8.1873e-04\n",
            "Epoch 14/50\n",
            "32/32 [==============================] - 3s 79ms/step - loss: 0.6925 - accuracy: 0.5130 - val_loss: 0.7202 - val_accuracy: 0.3352 - lr: 7.4082e-04\n",
            "Epoch 15/50\n",
            "32/32 [==============================] - 3s 80ms/step - loss: 0.6921 - accuracy: 0.5110 - val_loss: 0.7141 - val_accuracy: 0.3580 - lr: 6.7032e-04\n",
            "Epoch 16/50\n",
            "32/32 [==============================] - 2s 78ms/step - loss: 0.6907 - accuracy: 0.5170 - val_loss: 0.7142 - val_accuracy: 0.3409 - lr: 6.0653e-04\n",
            "Epoch 17/50\n",
            "32/32 [==============================] - 3s 78ms/step - loss: 0.6907 - accuracy: 0.5170 - val_loss: 0.7101 - val_accuracy: 0.3523 - lr: 5.4881e-04\n",
            "Epoch 18/50\n",
            "32/32 [==============================] - 3s 79ms/step - loss: 0.6898 - accuracy: 0.5170 - val_loss: 0.7106 - val_accuracy: 0.3466 - lr: 4.9659e-04\n",
            "Epoch 19/50\n",
            "32/32 [==============================] - 3s 79ms/step - loss: 0.6897 - accuracy: 0.5170 - val_loss: 0.7104 - val_accuracy: 0.3352 - lr: 4.4933e-04\n",
            "Epoch 20/50\n",
            "32/32 [==============================] - 3s 80ms/step - loss: 0.6898 - accuracy: 0.5110 - val_loss: 0.7075 - val_accuracy: 0.3466 - lr: 4.0657e-04\n",
            "Epoch 21/50\n",
            "32/32 [==============================] - 3s 79ms/step - loss: 0.6893 - accuracy: 0.5170 - val_loss: 0.7075 - val_accuracy: 0.3466 - lr: 3.6788e-04\n",
            "Epoch 22/50\n",
            "32/32 [==============================] - 3s 79ms/step - loss: 0.6893 - accuracy: 0.5190 - val_loss: 0.7072 - val_accuracy: 0.3409 - lr: 3.3287e-04\n",
            "Epoch 23/50\n",
            "32/32 [==============================] - 3s 79ms/step - loss: 0.6891 - accuracy: 0.5150 - val_loss: 0.7073 - val_accuracy: 0.3409 - lr: 3.0119e-04\n",
            "Epoch 24/50\n",
            "32/32 [==============================] - 3s 79ms/step - loss: 0.6894 - accuracy: 0.5130 - val_loss: 0.7068 - val_accuracy: 0.3409 - lr: 2.7253e-04\n",
            "Epoch 25/50\n",
            "32/32 [==============================] - 3s 80ms/step - loss: 0.6886 - accuracy: 0.5170 - val_loss: 0.7059 - val_accuracy: 0.3466 - lr: 2.4660e-04\n",
            "Epoch 26/50\n",
            "32/32 [==============================] - 3s 80ms/step - loss: 0.6885 - accuracy: 0.5190 - val_loss: 0.7083 - val_accuracy: 0.3239 - lr: 2.2313e-04\n",
            "Epoch 27/50\n",
            "32/32 [==============================] - 3s 80ms/step - loss: 0.6891 - accuracy: 0.5130 - val_loss: 0.7059 - val_accuracy: 0.3466 - lr: 2.0190e-04\n",
            "Epoch 28/50\n",
            "32/32 [==============================] - 3s 80ms/step - loss: 0.6880 - accuracy: 0.5210 - val_loss: 0.7072 - val_accuracy: 0.3352 - lr: 1.8268e-04\n",
            "Epoch 29/50\n",
            "32/32 [==============================] - 3s 80ms/step - loss: 0.6885 - accuracy: 0.5150 - val_loss: 0.7065 - val_accuracy: 0.3523 - lr: 1.6530e-04\n",
            "Epoch 30/50\n",
            "32/32 [==============================] - 3s 80ms/step - loss: 0.6888 - accuracy: 0.5150 - val_loss: 0.7082 - val_accuracy: 0.3239 - lr: 1.4957e-04\n",
            "Epoch 31/50\n",
            "32/32 [==============================] - 3s 79ms/step - loss: 0.6880 - accuracy: 0.5190 - val_loss: 0.7068 - val_accuracy: 0.3409 - lr: 1.3534e-04\n",
            "Epoch 32/50\n",
            "32/32 [==============================] - 3s 80ms/step - loss: 0.6882 - accuracy: 0.5170 - val_loss: 0.7058 - val_accuracy: 0.3409 - lr: 1.2246e-04\n",
            "Epoch 33/50\n",
            "32/32 [==============================] - 3s 80ms/step - loss: 0.6888 - accuracy: 0.5150 - val_loss: 0.7052 - val_accuracy: 0.3409 - lr: 1.1080e-04\n",
            "Epoch 34/50\n",
            "32/32 [==============================] - 3s 81ms/step - loss: 0.6885 - accuracy: 0.5190 - val_loss: 0.7042 - val_accuracy: 0.3523 - lr: 1.0026e-04\n",
            "Epoch 35/50\n",
            "32/32 [==============================] - 3s 80ms/step - loss: 0.6871 - accuracy: 0.5329 - val_loss: 0.7035 - val_accuracy: 0.3693 - lr: 9.0718e-05\n",
            "Epoch 36/50\n",
            "32/32 [==============================] - 3s 81ms/step - loss: 0.6884 - accuracy: 0.5190 - val_loss: 0.7053 - val_accuracy: 0.3466 - lr: 8.2085e-05\n",
            "Epoch 37/50\n",
            "32/32 [==============================] - 3s 82ms/step - loss: 0.6890 - accuracy: 0.5110 - val_loss: 0.7054 - val_accuracy: 0.3409 - lr: 7.4274e-05\n",
            "Epoch 38/50\n",
            "32/32 [==============================] - 3s 81ms/step - loss: 0.6882 - accuracy: 0.5190 - val_loss: 0.7038 - val_accuracy: 0.3523 - lr: 6.7206e-05\n",
            "Epoch 39/50\n",
            "32/32 [==============================] - 3s 81ms/step - loss: 0.6888 - accuracy: 0.5170 - val_loss: 0.7062 - val_accuracy: 0.3295 - lr: 6.0810e-05\n",
            "Epoch 40/50\n",
            "32/32 [==============================] - 3s 81ms/step - loss: 0.6883 - accuracy: 0.5210 - val_loss: 0.7055 - val_accuracy: 0.3409 - lr: 5.5023e-05\n",
            "Epoch 41/50\n",
            "32/32 [==============================] - 3s 82ms/step - loss: 0.6884 - accuracy: 0.5170 - val_loss: 0.7051 - val_accuracy: 0.3352 - lr: 4.9787e-05\n",
            "Epoch 42/50\n",
            "32/32 [==============================] - 3s 81ms/step - loss: 0.6883 - accuracy: 0.5170 - val_loss: 0.7047 - val_accuracy: 0.3466 - lr: 4.5049e-05\n",
            "Epoch 43/50\n",
            "32/32 [==============================] - 3s 81ms/step - loss: 0.6869 - accuracy: 0.5309 - val_loss: 0.7056 - val_accuracy: 0.3352 - lr: 4.0762e-05\n",
            "Epoch 44/50\n",
            "32/32 [==============================] - 3s 81ms/step - loss: 0.6882 - accuracy: 0.5190 - val_loss: 0.7042 - val_accuracy: 0.3523 - lr: 3.6883e-05\n",
            "Epoch 45/50\n",
            "32/32 [==============================] - 3s 81ms/step - loss: 0.6885 - accuracy: 0.5190 - val_loss: 0.7066 - val_accuracy: 0.3182 - lr: 3.3373e-05\n",
            "Epoch 46/50\n",
            "32/32 [==============================] - 3s 81ms/step - loss: 0.6878 - accuracy: 0.5210 - val_loss: 0.7058 - val_accuracy: 0.3352 - lr: 3.0197e-05\n",
            "Epoch 47/50\n",
            "32/32 [==============================] - 3s 80ms/step - loss: 0.6887 - accuracy: 0.5130 - val_loss: 0.7043 - val_accuracy: 0.3466 - lr: 2.7324e-05\n",
            "Epoch 48/50\n",
            "32/32 [==============================] - 3s 80ms/step - loss: 0.6880 - accuracy: 0.5190 - val_loss: 0.7046 - val_accuracy: 0.3466 - lr: 2.4724e-05\n",
            "Epoch 49/50\n",
            "32/32 [==============================] - 3s 81ms/step - loss: 0.6887 - accuracy: 0.5130 - val_loss: 0.7056 - val_accuracy: 0.3352 - lr: 2.2371e-05\n",
            "Epoch 50/50\n",
            "32/32 [==============================] - 3s 80ms/step - loss: 0.6892 - accuracy: 0.5110 - val_loss: 0.7045 - val_accuracy: 0.3409 - lr: 2.0242e-05\n"
          ],
          "name": "stdout"
        }
      ]
    },
    {
      "cell_type": "markdown",
      "metadata": {
        "id": "EbGJeQra2m_o",
        "colab_type": "text"
      },
      "source": [
        "# Custom CNN Model\n",
        "\n",
        "In this step, write and train your own convolutional neural network using Keras. You can use any architecture that suits you as long as it has at least one convolutional and one pooling layer at the beginning of the network - you can add more if you want. "
      ]
    },
    {
      "cell_type": "code",
      "metadata": {
        "id": "kPvp1xSK2m_o",
        "colab_type": "code",
        "colab": {}
      },
      "source": [
        "# Define the Model\n",
        "\n",
        "model = Sequential([\n",
        "    Conv2D(32, (1,1), activation='relu'),\n",
        "    MaxPooling2D((2,2)),\n",
        "    Conv2D(64, (1,1), activation='relu'),\n",
        "    MaxPooling2D((2,2)),\n",
        "    Conv2D(64, (1,1), activation='relu'),\n",
        "    GlobalAveragePooling2D(),\n",
        "    Dense(1024, activation='relu'),\n",
        "    Dense(1, activation='sigmoid')\n",
        "\n",
        "])\n",
        "\n",
        "import tensorflow as tf\n",
        "from tensorflow.keras.callbacks import LearningRateScheduler, TensorBoard\n",
        "\n",
        "import os\n",
        "\n",
        "def scheduler(epoch):\n",
        "  if epoch < 10:\n",
        "    return 0.001\n",
        "  else:\n",
        "    return 0.001 * tf.math.exp(0.1 * (10 - epoch))\n"
      ],
      "execution_count": 29,
      "outputs": []
    },
    {
      "cell_type": "code",
      "metadata": {
        "id": "bDKAbVbN2m_r",
        "colab_type": "code",
        "colab": {}
      },
      "source": [
        "# Compile Model\n",
        "lrs = LearningRateScheduler(scheduler)\n",
        "logdir = os.path.join(\"/logs\",\"adadelta\" )\n",
        "\n",
        "model.compile(optimizer='adadelta',\n",
        "              loss='binary_crossentropy',\n",
        "              metrics=['accuracy'])"
      ],
      "execution_count": 30,
      "outputs": []
    },
    {
      "cell_type": "code",
      "metadata": {
        "id": "-_XREMpU2m_u",
        "colab_type": "code",
        "colab": {
          "base_uri": "https://localhost:8080/",
          "height": 1000
        },
        "outputId": "b2311cd8-799e-44d3-b28c-d63fc93a405b"
      },
      "source": [
        "# Fit Model\n",
        "history = model.fit(\n",
        "    train_data_gen,\n",
        "    steps_per_epoch=total_train // batch_size,\n",
        "    epochs=epochs,\n",
        "    validation_data=val_data_gen,\n",
        "    validation_steps=total_val // batch_size,\n",
        "    callbacks=[lrs]\n",
        ")"
      ],
      "execution_count": 33,
      "outputs": [
        {
          "output_type": "stream",
          "text": [
            "Epoch 1/100\n",
            "32/32 [==============================] - 2s 57ms/step - loss: 0.6925 - accuracy: 0.4870 - val_loss: 0.6903 - val_accuracy: 0.6420 - lr: 0.0010\n",
            "Epoch 2/100\n",
            "32/32 [==============================] - 2s 58ms/step - loss: 0.6925 - accuracy: 0.4770 - val_loss: 0.6901 - val_accuracy: 0.6648 - lr: 0.0010\n",
            "Epoch 3/100\n",
            "32/32 [==============================] - 2s 57ms/step - loss: 0.6923 - accuracy: 0.4970 - val_loss: 0.6902 - val_accuracy: 0.6648 - lr: 0.0010\n",
            "Epoch 4/100\n",
            "32/32 [==============================] - 2s 57ms/step - loss: 0.6924 - accuracy: 0.4870 - val_loss: 0.6901 - val_accuracy: 0.6761 - lr: 0.0010\n",
            "Epoch 5/100\n",
            "32/32 [==============================] - 2s 58ms/step - loss: 0.6924 - accuracy: 0.4790 - val_loss: 0.6903 - val_accuracy: 0.6591 - lr: 0.0010\n",
            "Epoch 6/100\n",
            "32/32 [==============================] - 2s 60ms/step - loss: 0.6924 - accuracy: 0.4790 - val_loss: 0.6904 - val_accuracy: 0.6705 - lr: 0.0010\n",
            "Epoch 7/100\n",
            "32/32 [==============================] - 2s 58ms/step - loss: 0.6923 - accuracy: 0.4870 - val_loss: 0.6905 - val_accuracy: 0.6705 - lr: 0.0010\n",
            "Epoch 8/100\n",
            "32/32 [==============================] - 2s 60ms/step - loss: 0.6923 - accuracy: 0.4850 - val_loss: 0.6906 - val_accuracy: 0.6875 - lr: 0.0010\n",
            "Epoch 9/100\n",
            "32/32 [==============================] - 2s 59ms/step - loss: 0.6922 - accuracy: 0.4910 - val_loss: 0.6905 - val_accuracy: 0.7330 - lr: 0.0010\n",
            "Epoch 10/100\n",
            "32/32 [==============================] - 2s 59ms/step - loss: 0.6922 - accuracy: 0.4930 - val_loss: 0.6907 - val_accuracy: 0.7330 - lr: 0.0010\n",
            "Epoch 11/100\n",
            "32/32 [==============================] - 2s 63ms/step - loss: 0.6921 - accuracy: 0.5289 - val_loss: 0.6907 - val_accuracy: 0.7443 - lr: 0.0010\n",
            "Epoch 12/100\n",
            "32/32 [==============================] - 2s 57ms/step - loss: 0.6922 - accuracy: 0.5369 - val_loss: 0.6908 - val_accuracy: 0.7557 - lr: 9.0484e-04\n",
            "Epoch 13/100\n",
            "32/32 [==============================] - 2s 57ms/step - loss: 0.6921 - accuracy: 0.5689 - val_loss: 0.6907 - val_accuracy: 0.8182 - lr: 8.1873e-04\n",
            "Epoch 14/100\n",
            "32/32 [==============================] - 2s 58ms/step - loss: 0.6920 - accuracy: 0.5848 - val_loss: 0.6910 - val_accuracy: 0.7955 - lr: 7.4082e-04\n",
            "Epoch 15/100\n",
            "32/32 [==============================] - 2s 58ms/step - loss: 0.6920 - accuracy: 0.5968 - val_loss: 0.6909 - val_accuracy: 0.8409 - lr: 6.7032e-04\n",
            "Epoch 16/100\n",
            "32/32 [==============================] - 2s 58ms/step - loss: 0.6920 - accuracy: 0.6108 - val_loss: 0.6909 - val_accuracy: 0.8580 - lr: 6.0653e-04\n",
            "Epoch 17/100\n",
            "32/32 [==============================] - 2s 58ms/step - loss: 0.6920 - accuracy: 0.6267 - val_loss: 0.6910 - val_accuracy: 0.8580 - lr: 5.4881e-04\n",
            "Epoch 18/100\n",
            "32/32 [==============================] - 2s 57ms/step - loss: 0.6920 - accuracy: 0.6467 - val_loss: 0.6909 - val_accuracy: 0.8807 - lr: 4.9659e-04\n",
            "Epoch 19/100\n",
            "32/32 [==============================] - 2s 57ms/step - loss: 0.6920 - accuracy: 0.6447 - val_loss: 0.6910 - val_accuracy: 0.8977 - lr: 4.4933e-04\n",
            "Epoch 20/100\n",
            "32/32 [==============================] - 2s 57ms/step - loss: 0.6919 - accuracy: 0.6747 - val_loss: 0.6911 - val_accuracy: 0.8864 - lr: 4.0657e-04\n",
            "Epoch 21/100\n",
            "32/32 [==============================] - 2s 57ms/step - loss: 0.6919 - accuracy: 0.6946 - val_loss: 0.6911 - val_accuracy: 0.8807 - lr: 3.6788e-04\n",
            "Epoch 22/100\n",
            "32/32 [==============================] - 2s 58ms/step - loss: 0.6919 - accuracy: 0.7006 - val_loss: 0.6911 - val_accuracy: 0.8750 - lr: 3.3287e-04\n",
            "Epoch 23/100\n",
            "32/32 [==============================] - 2s 58ms/step - loss: 0.6919 - accuracy: 0.7086 - val_loss: 0.6911 - val_accuracy: 0.8864 - lr: 3.0119e-04\n",
            "Epoch 24/100\n",
            "32/32 [==============================] - 2s 58ms/step - loss: 0.6919 - accuracy: 0.7146 - val_loss: 0.6912 - val_accuracy: 0.8693 - lr: 2.7253e-04\n",
            "Epoch 25/100\n",
            "32/32 [==============================] - 2s 58ms/step - loss: 0.6919 - accuracy: 0.7265 - val_loss: 0.6912 - val_accuracy: 0.8750 - lr: 2.4660e-04\n",
            "Epoch 26/100\n",
            "32/32 [==============================] - 2s 57ms/step - loss: 0.6919 - accuracy: 0.7305 - val_loss: 0.6911 - val_accuracy: 0.8920 - lr: 2.2313e-04\n",
            "Epoch 27/100\n",
            "32/32 [==============================] - 2s 58ms/step - loss: 0.6919 - accuracy: 0.7425 - val_loss: 0.6912 - val_accuracy: 0.8807 - lr: 2.0190e-04\n",
            "Epoch 28/100\n",
            "32/32 [==============================] - 2s 58ms/step - loss: 0.6919 - accuracy: 0.7445 - val_loss: 0.6912 - val_accuracy: 0.8750 - lr: 1.8268e-04\n",
            "Epoch 29/100\n",
            "32/32 [==============================] - 2s 58ms/step - loss: 0.6919 - accuracy: 0.7559 - val_loss: 0.6912 - val_accuracy: 0.8693 - lr: 1.6530e-04\n",
            "Epoch 30/100\n",
            "32/32 [==============================] - 2s 57ms/step - loss: 0.6918 - accuracy: 0.7665 - val_loss: 0.6912 - val_accuracy: 0.8807 - lr: 1.4957e-04\n",
            "Epoch 31/100\n",
            "32/32 [==============================] - 2s 57ms/step - loss: 0.6918 - accuracy: 0.7665 - val_loss: 0.6912 - val_accuracy: 0.8750 - lr: 1.3534e-04\n",
            "Epoch 32/100\n",
            "32/32 [==============================] - 2s 57ms/step - loss: 0.6919 - accuracy: 0.7625 - val_loss: 0.6912 - val_accuracy: 0.8750 - lr: 1.2246e-04\n",
            "Epoch 33/100\n",
            "32/32 [==============================] - 2s 58ms/step - loss: 0.6918 - accuracy: 0.7725 - val_loss: 0.6913 - val_accuracy: 0.8807 - lr: 1.1080e-04\n",
            "Epoch 34/100\n",
            "32/32 [==============================] - 2s 57ms/step - loss: 0.6918 - accuracy: 0.7725 - val_loss: 0.6913 - val_accuracy: 0.8750 - lr: 1.0026e-04\n",
            "Epoch 35/100\n",
            "32/32 [==============================] - 2s 58ms/step - loss: 0.6918 - accuracy: 0.7685 - val_loss: 0.6912 - val_accuracy: 0.8807 - lr: 9.0718e-05\n",
            "Epoch 36/100\n",
            "32/32 [==============================] - 2s 57ms/step - loss: 0.6918 - accuracy: 0.7764 - val_loss: 0.6912 - val_accuracy: 0.8807 - lr: 8.2085e-05\n",
            "Epoch 37/100\n",
            "32/32 [==============================] - 2s 57ms/step - loss: 0.6918 - accuracy: 0.7705 - val_loss: 0.6912 - val_accuracy: 0.8693 - lr: 7.4274e-05\n",
            "Epoch 38/100\n",
            "32/32 [==============================] - 2s 57ms/step - loss: 0.6918 - accuracy: 0.7705 - val_loss: 0.6913 - val_accuracy: 0.8636 - lr: 6.7206e-05\n",
            "Epoch 39/100\n",
            "32/32 [==============================] - 2s 58ms/step - loss: 0.6918 - accuracy: 0.7784 - val_loss: 0.6913 - val_accuracy: 0.8636 - lr: 6.0810e-05\n",
            "Epoch 40/100\n",
            "32/32 [==============================] - 2s 57ms/step - loss: 0.6918 - accuracy: 0.7844 - val_loss: 0.6913 - val_accuracy: 0.8693 - lr: 5.5023e-05\n",
            "Epoch 41/100\n",
            "32/32 [==============================] - 2s 57ms/step - loss: 0.6918 - accuracy: 0.7864 - val_loss: 0.6912 - val_accuracy: 0.8807 - lr: 4.9787e-05\n",
            "Epoch 42/100\n",
            "32/32 [==============================] - 2s 57ms/step - loss: 0.6918 - accuracy: 0.7844 - val_loss: 0.6912 - val_accuracy: 0.8636 - lr: 4.5049e-05\n",
            "Epoch 43/100\n",
            "32/32 [==============================] - 2s 58ms/step - loss: 0.6918 - accuracy: 0.7784 - val_loss: 0.6913 - val_accuracy: 0.8693 - lr: 4.0762e-05\n",
            "Epoch 44/100\n",
            "32/32 [==============================] - 2s 59ms/step - loss: 0.6918 - accuracy: 0.7764 - val_loss: 0.6913 - val_accuracy: 0.8750 - lr: 3.6883e-05\n",
            "Epoch 45/100\n",
            "32/32 [==============================] - 2s 58ms/step - loss: 0.6918 - accuracy: 0.7832 - val_loss: 0.6913 - val_accuracy: 0.8750 - lr: 3.3373e-05\n",
            "Epoch 46/100\n",
            "32/32 [==============================] - 2s 58ms/step - loss: 0.6918 - accuracy: 0.7904 - val_loss: 0.6913 - val_accuracy: 0.8807 - lr: 3.0197e-05\n",
            "Epoch 47/100\n",
            "32/32 [==============================] - 2s 58ms/step - loss: 0.6918 - accuracy: 0.7924 - val_loss: 0.6912 - val_accuracy: 0.8864 - lr: 2.7324e-05\n",
            "Epoch 48/100\n",
            "32/32 [==============================] - 2s 58ms/step - loss: 0.6918 - accuracy: 0.7824 - val_loss: 0.6913 - val_accuracy: 0.8750 - lr: 2.4724e-05\n",
            "Epoch 49/100\n",
            "32/32 [==============================] - 2s 57ms/step - loss: 0.6918 - accuracy: 0.7844 - val_loss: 0.6913 - val_accuracy: 0.8693 - lr: 2.2371e-05\n",
            "Epoch 50/100\n",
            "32/32 [==============================] - 2s 58ms/step - loss: 0.6918 - accuracy: 0.7884 - val_loss: 0.6913 - val_accuracy: 0.8693 - lr: 2.0242e-05\n",
            "Epoch 51/100\n",
            "32/32 [==============================] - 2s 58ms/step - loss: 0.6918 - accuracy: 0.7804 - val_loss: 0.6913 - val_accuracy: 0.8750 - lr: 1.8316e-05\n",
            "Epoch 52/100\n",
            "32/32 [==============================] - 2s 57ms/step - loss: 0.6918 - accuracy: 0.7824 - val_loss: 0.6913 - val_accuracy: 0.8750 - lr: 1.6573e-05\n",
            "Epoch 53/100\n",
            "32/32 [==============================] - 2s 56ms/step - loss: 0.6918 - accuracy: 0.7884 - val_loss: 0.6913 - val_accuracy: 0.8750 - lr: 1.4996e-05\n",
            "Epoch 54/100\n",
            "32/32 [==============================] - 2s 58ms/step - loss: 0.6918 - accuracy: 0.7884 - val_loss: 0.6913 - val_accuracy: 0.8693 - lr: 1.3569e-05\n",
            "Epoch 55/100\n",
            "32/32 [==============================] - 2s 57ms/step - loss: 0.6918 - accuracy: 0.7884 - val_loss: 0.6912 - val_accuracy: 0.9034 - lr: 1.2277e-05\n",
            "Epoch 56/100\n",
            "32/32 [==============================] - 2s 58ms/step - loss: 0.6918 - accuracy: 0.7904 - val_loss: 0.6913 - val_accuracy: 0.8807 - lr: 1.1109e-05\n",
            "Epoch 57/100\n",
            "32/32 [==============================] - 2s 58ms/step - loss: 0.6918 - accuracy: 0.7884 - val_loss: 0.6913 - val_accuracy: 0.8807 - lr: 1.0052e-05\n",
            "Epoch 58/100\n",
            "32/32 [==============================] - 2s 56ms/step - loss: 0.6918 - accuracy: 0.7824 - val_loss: 0.6913 - val_accuracy: 0.8693 - lr: 9.0953e-06\n",
            "Epoch 59/100\n",
            "32/32 [==============================] - 2s 58ms/step - loss: 0.6918 - accuracy: 0.7904 - val_loss: 0.6913 - val_accuracy: 0.8693 - lr: 8.2297e-06\n",
            "Epoch 60/100\n",
            "32/32 [==============================] - 2s 59ms/step - loss: 0.6918 - accuracy: 0.7871 - val_loss: 0.6913 - val_accuracy: 0.8693 - lr: 7.4466e-06\n",
            "Epoch 61/100\n",
            "32/32 [==============================] - 2s 57ms/step - loss: 0.6918 - accuracy: 0.7864 - val_loss: 0.6913 - val_accuracy: 0.8750 - lr: 6.7379e-06\n",
            "Epoch 62/100\n",
            "32/32 [==============================] - 2s 58ms/step - loss: 0.6918 - accuracy: 0.7924 - val_loss: 0.6912 - val_accuracy: 0.8977 - lr: 6.0967e-06\n",
            "Epoch 63/100\n",
            "32/32 [==============================] - 2s 57ms/step - loss: 0.6918 - accuracy: 0.7864 - val_loss: 0.6913 - val_accuracy: 0.8807 - lr: 5.5166e-06\n",
            "Epoch 64/100\n",
            "32/32 [==============================] - 2s 59ms/step - loss: 0.6918 - accuracy: 0.7844 - val_loss: 0.6913 - val_accuracy: 0.8864 - lr: 4.9916e-06\n",
            "Epoch 65/100\n",
            "32/32 [==============================] - 2s 57ms/step - loss: 0.6918 - accuracy: 0.7824 - val_loss: 0.6913 - val_accuracy: 0.8750 - lr: 4.5166e-06\n",
            "Epoch 66/100\n",
            "32/32 [==============================] - 2s 59ms/step - loss: 0.6918 - accuracy: 0.7944 - val_loss: 0.6913 - val_accuracy: 0.8807 - lr: 4.0868e-06\n",
            "Epoch 67/100\n",
            "32/32 [==============================] - 2s 58ms/step - loss: 0.6918 - accuracy: 0.7844 - val_loss: 0.6913 - val_accuracy: 0.8807 - lr: 3.6979e-06\n",
            "Epoch 68/100\n",
            "32/32 [==============================] - 2s 57ms/step - loss: 0.6918 - accuracy: 0.7924 - val_loss: 0.6913 - val_accuracy: 0.8807 - lr: 3.3460e-06\n",
            "Epoch 69/100\n",
            "32/32 [==============================] - 2s 57ms/step - loss: 0.6918 - accuracy: 0.7964 - val_loss: 0.6913 - val_accuracy: 0.8864 - lr: 3.0276e-06\n",
            "Epoch 70/100\n",
            "32/32 [==============================] - 2s 58ms/step - loss: 0.6918 - accuracy: 0.7864 - val_loss: 0.6912 - val_accuracy: 0.8977 - lr: 2.7394e-06\n",
            "Epoch 71/100\n",
            "32/32 [==============================] - 2s 58ms/step - loss: 0.6918 - accuracy: 0.7904 - val_loss: 0.6913 - val_accuracy: 0.8693 - lr: 2.4788e-06\n",
            "Epoch 72/100\n",
            "32/32 [==============================] - 2s 57ms/step - loss: 0.6918 - accuracy: 0.7824 - val_loss: 0.6913 - val_accuracy: 0.8693 - lr: 2.2429e-06\n",
            "Epoch 73/100\n",
            "32/32 [==============================] - 2s 58ms/step - loss: 0.6918 - accuracy: 0.7891 - val_loss: 0.6913 - val_accuracy: 0.8807 - lr: 2.0294e-06\n",
            "Epoch 74/100\n",
            "32/32 [==============================] - 2s 57ms/step - loss: 0.6919 - accuracy: 0.7784 - val_loss: 0.6913 - val_accuracy: 0.8920 - lr: 1.8363e-06\n",
            "Epoch 75/100\n",
            "32/32 [==============================] - 2s 57ms/step - loss: 0.6918 - accuracy: 0.7904 - val_loss: 0.6913 - val_accuracy: 0.8750 - lr: 1.6616e-06\n",
            "Epoch 76/100\n",
            "32/32 [==============================] - 2s 59ms/step - loss: 0.6918 - accuracy: 0.7844 - val_loss: 0.6913 - val_accuracy: 0.8864 - lr: 1.5034e-06\n",
            "Epoch 77/100\n",
            "32/32 [==============================] - 2s 58ms/step - loss: 0.6918 - accuracy: 0.7804 - val_loss: 0.6913 - val_accuracy: 0.8807 - lr: 1.3604e-06\n",
            "Epoch 78/100\n",
            "32/32 [==============================] - 2s 58ms/step - loss: 0.6918 - accuracy: 0.7924 - val_loss: 0.6913 - val_accuracy: 0.8807 - lr: 1.2309e-06\n",
            "Epoch 79/100\n",
            "32/32 [==============================] - 2s 58ms/step - loss: 0.6918 - accuracy: 0.7944 - val_loss: 0.6912 - val_accuracy: 0.8864 - lr: 1.1138e-06\n",
            "Epoch 80/100\n",
            "32/32 [==============================] - 2s 58ms/step - loss: 0.6918 - accuracy: 0.7924 - val_loss: 0.6913 - val_accuracy: 0.8807 - lr: 1.0078e-06\n",
            "Epoch 81/100\n",
            "32/32 [==============================] - 2s 57ms/step - loss: 0.6918 - accuracy: 0.7924 - val_loss: 0.6913 - val_accuracy: 0.8750 - lr: 9.1188e-07\n",
            "Epoch 82/100\n",
            "32/32 [==============================] - 2s 57ms/step - loss: 0.6918 - accuracy: 0.7884 - val_loss: 0.6913 - val_accuracy: 0.8864 - lr: 8.2510e-07\n",
            "Epoch 83/100\n",
            "32/32 [==============================] - 2s 56ms/step - loss: 0.6918 - accuracy: 0.7904 - val_loss: 0.6913 - val_accuracy: 0.8864 - lr: 7.4659e-07\n",
            "Epoch 84/100\n",
            "32/32 [==============================] - 2s 57ms/step - loss: 0.6918 - accuracy: 0.7884 - val_loss: 0.6913 - val_accuracy: 0.8807 - lr: 6.7554e-07\n",
            "Epoch 85/100\n",
            "32/32 [==============================] - 2s 57ms/step - loss: 0.6918 - accuracy: 0.7844 - val_loss: 0.6912 - val_accuracy: 0.8807 - lr: 6.1125e-07\n",
            "Epoch 86/100\n",
            "32/32 [==============================] - 2s 58ms/step - loss: 0.6918 - accuracy: 0.7924 - val_loss: 0.6913 - val_accuracy: 0.8807 - lr: 5.5308e-07\n",
            "Epoch 87/100\n",
            "32/32 [==============================] - 2s 58ms/step - loss: 0.6918 - accuracy: 0.7884 - val_loss: 0.6913 - val_accuracy: 0.8920 - lr: 5.0045e-07\n",
            "Epoch 88/100\n",
            "32/32 [==============================] - 2s 57ms/step - loss: 0.6918 - accuracy: 0.7864 - val_loss: 0.6913 - val_accuracy: 0.8920 - lr: 4.5283e-07\n",
            "Epoch 89/100\n",
            "32/32 [==============================] - 2s 57ms/step - loss: 0.6918 - accuracy: 0.7924 - val_loss: 0.6914 - val_accuracy: 0.8807 - lr: 4.0973e-07\n",
            "Epoch 90/100\n",
            "32/32 [==============================] - 2s 57ms/step - loss: 0.6918 - accuracy: 0.7884 - val_loss: 0.6912 - val_accuracy: 0.9034 - lr: 3.7074e-07\n",
            "Epoch 91/100\n",
            "32/32 [==============================] - 2s 57ms/step - loss: 0.6918 - accuracy: 0.7884 - val_loss: 0.6913 - val_accuracy: 0.8750 - lr: 3.3546e-07\n",
            "Epoch 92/100\n",
            "32/32 [==============================] - 2s 57ms/step - loss: 0.6918 - accuracy: 0.7904 - val_loss: 0.6913 - val_accuracy: 0.8864 - lr: 3.0354e-07\n",
            "Epoch 93/100\n",
            "32/32 [==============================] - 2s 57ms/step - loss: 0.6918 - accuracy: 0.7864 - val_loss: 0.6913 - val_accuracy: 0.8807 - lr: 2.7465e-07\n",
            "Epoch 94/100\n",
            "32/32 [==============================] - 2s 57ms/step - loss: 0.6918 - accuracy: 0.7884 - val_loss: 0.6912 - val_accuracy: 0.8920 - lr: 2.4852e-07\n",
            "Epoch 95/100\n",
            "32/32 [==============================] - 2s 57ms/step - loss: 0.6918 - accuracy: 0.7904 - val_loss: 0.6913 - val_accuracy: 0.8693 - lr: 2.2487e-07\n",
            "Epoch 96/100\n",
            "32/32 [==============================] - 2s 57ms/step - loss: 0.6918 - accuracy: 0.7864 - val_loss: 0.6912 - val_accuracy: 0.8864 - lr: 2.0347e-07\n",
            "Epoch 97/100\n",
            "32/32 [==============================] - 2s 56ms/step - loss: 0.6918 - accuracy: 0.7844 - val_loss: 0.6912 - val_accuracy: 0.8920 - lr: 1.8411e-07\n",
            "Epoch 98/100\n",
            "32/32 [==============================] - 2s 58ms/step - loss: 0.6918 - accuracy: 0.7864 - val_loss: 0.6913 - val_accuracy: 0.8750 - lr: 1.6659e-07\n",
            "Epoch 99/100\n",
            "32/32 [==============================] - 2s 58ms/step - loss: 0.6918 - accuracy: 0.7864 - val_loss: 0.6913 - val_accuracy: 0.8750 - lr: 1.5073e-07\n",
            "Epoch 100/100\n",
            "32/32 [==============================] - 2s 56ms/step - loss: 0.6918 - accuracy: 0.7864 - val_loss: 0.6913 - val_accuracy: 0.8807 - lr: 1.3639e-07\n"
          ],
          "name": "stdout"
        }
      ]
    },
    {
      "cell_type": "markdown",
      "metadata": {
        "id": "Rr9OSbLP2m_x",
        "colab_type": "text"
      },
      "source": [
        "# Custom CNN Model with Image Manipulations\n",
        "\n",
        "To simulate an increase in a sample of image, you can apply image manipulation techniques: cropping, rotation, stretching, etc. Luckily Keras has some handy functions for us to apply these techniques to our mountain and forest example. Simply, you should be able to modify our image generator for the problem. Check out these resources to help you get started: \n",
        "\n",
        "1. [Keras `ImageGenerator` Class](https://keras.io/preprocessing/image/#imagedatagenerator-class)\n",
        "2. [Building a powerful image classifier with very little data](https://blog.keras.io/building-powerful-image-classification-models-using-very-little-data.html)\n",
        " "
      ]
    },
    {
      "cell_type": "code",
      "metadata": {
        "id": "aiUt8czG2m_x",
        "colab_type": "code",
        "colab": {}
      },
      "source": [
        "# Let's start with the baseline put together in the training article\n",
        "\n",
        "train_image_generator = ImageDataGenerator(\n",
        "    rotation_range=40,\n",
        "    width_shift_range=.2,\n",
        "    height_shift_range=.2,\n",
        "    rescale=1./255,\n",
        "    shear_range=.2,\n",
        "    zoom_range=.2,\n",
        "    horizontal_flip=True,\n",
        "    fill_mode='nearest'\n",
        "    ) # Generator for our training data\n",
        "\n",
        "validation_image_generator = ImageDataGenerator(\n",
        "    rotation_range=40,\n",
        "    width_shift_range=.2,\n",
        "    height_shift_range=.2,\n",
        "    rescale=1./255,\n",
        "    shear_range=.2,\n",
        "    zoom_range=.2,\n",
        "    horizontal_flip=True,\n",
        "    fill_mode='nearest'\n",
        ") # Generator for our validation data\n",
        "\n"
      ],
      "execution_count": 13,
      "outputs": []
    },
    {
      "cell_type": "code",
      "metadata": {
        "id": "1LlGBnraHcJD",
        "colab_type": "code",
        "colab": {
          "base_uri": "https://localhost:8080/",
          "height": 52
        },
        "outputId": "4c2738f0-d87c-4dd9-a3b7-a46d6c230490"
      },
      "source": [
        "# Create our train and validation generators\n",
        "\n",
        "train_data_gen = train_image_generator.flow_from_directory(batch_size=batch_size,\n",
        "                                                           directory=train_dir,\n",
        "                                                           shuffle=True,\n",
        "                                                           target_size=(IMG_HEIGHT, IMG_WIDTH),\n",
        "                                                           class_mode='binary')\n",
        "\n",
        "val_data_gen = validation_image_generator.flow_from_directory(batch_size=batch_size,\n",
        "                                                              directory=validation_dir,\n",
        "                                                              target_size=(IMG_HEIGHT, IMG_WIDTH),\n",
        "                                                              class_mode='binary')"
      ],
      "execution_count": 14,
      "outputs": [
        {
          "output_type": "stream",
          "text": [
            "Found 533 images belonging to 2 classes.\n",
            "Found 195 images belonging to 2 classes.\n"
          ],
          "name": "stdout"
        }
      ]
    },
    {
      "cell_type": "code",
      "metadata": {
        "id": "u9USzTgYH0-M",
        "colab_type": "code",
        "colab": {}
      },
      "source": [
        "# Define our baseline model\n",
        "import numpy as np\n",
        "from tensorflow.keras.applications.resnet50 import ResNet50\n",
        "from tensorflow.keras.preprocessing import image\n",
        "from tensorflow.keras.applications.resnet50 import preprocess_input, decode_predictions\n",
        "from tensorflow.keras.layers import Dense, GlobalAveragePooling2D, Conv2D, MaxPooling2D, Dropout\n",
        "from tensorflow.keras.models import Model, Sequential # This is the functional API\n",
        "\n",
        "model = Sequential([\n",
        "    Conv2D(32, (1, 1), activation='relu'),\n",
        "    MaxPooling2D(pool_size=(2, 2)),\n",
        "    Conv2D(32, (1, 1), activation='relu'),\n",
        "    MaxPooling2D(pool_size=(2, 2)),\n",
        "    Conv2D(64, (1, 1), activation='relu'),\n",
        "    MaxPooling2D(pool_size=(2, 2)),\n",
        "    GlobalAveragePooling2D(),\n",
        "    Dense(64, activation='relu'),\n",
        "    Dropout(0.5),\n",
        "    Dense(1, activation='sigmoid')\n",
        "])\n",
        "\n",
        "import tensorflow as tf\n",
        "from tensorflow.keras.callbacks import LearningRateScheduler, TensorBoard\n",
        "\n",
        "import os\n",
        "\n",
        "def scheduler(epoch):\n",
        "  if epoch < 10:\n",
        "    return 0.001\n",
        "  else:\n",
        "    return 0.001 * tf.math.exp(0.1 * (10 - epoch))"
      ],
      "execution_count": 19,
      "outputs": []
    },
    {
      "cell_type": "code",
      "metadata": {
        "id": "CfvRmXjBH5KJ",
        "colab_type": "code",
        "colab": {}
      },
      "source": [
        "# Compile our model\n",
        "\n",
        "lrs = LearningRateScheduler(scheduler)\n",
        "logdir = os.path.join(\"/logs\",\"adadelta\" )\n",
        "\n",
        "model.compile(optimizer='rmsprop',\n",
        "              loss='binary_crossentropy',\n",
        "              metrics=['accuracy'])"
      ],
      "execution_count": 20,
      "outputs": []
    },
    {
      "cell_type": "code",
      "metadata": {
        "id": "a3m9iZy9VdvP",
        "colab_type": "code",
        "colab": {
          "base_uri": "https://localhost:8080/",
          "height": 1000
        },
        "outputId": "0a168926-e506-4589-ad35-7131cb23b5c0"
      },
      "source": [
        "model.fit(\n",
        "    train_data_gen,\n",
        "    steps_per_epoch=total_train // batch_size,\n",
        "    epochs=epochs,\n",
        "    validation_data=val_data_gen,\n",
        "    validation_steps=total_val // batch_size,\n",
        "    callbacks=[lrs]\n",
        ")\n",
        "model.save_weights('first_try.h5')"
      ],
      "execution_count": 21,
      "outputs": [
        {
          "output_type": "stream",
          "text": [
            "Epoch 1/100\n",
            "32/32 [==============================] - 9s 268ms/step - loss: 0.6495 - accuracy: 0.6786 - val_loss: 0.6181 - val_accuracy: 0.7784 - lr: 0.0010\n",
            "Epoch 2/100\n",
            "32/32 [==============================] - 9s 267ms/step - loss: 0.5607 - accuracy: 0.7844 - val_loss: 0.5033 - val_accuracy: 0.8693 - lr: 0.0010\n",
            "Epoch 3/100\n",
            "32/32 [==============================] - 9s 266ms/step - loss: 0.4889 - accuracy: 0.8024 - val_loss: 0.4244 - val_accuracy: 0.8580 - lr: 0.0010\n",
            "Epoch 4/100\n",
            "32/32 [==============================] - 9s 273ms/step - loss: 0.4352 - accuracy: 0.8423 - val_loss: 0.3838 - val_accuracy: 0.8352 - lr: 0.0010\n",
            "Epoch 5/100\n",
            "32/32 [==============================] - 8s 265ms/step - loss: 0.4039 - accuracy: 0.8463 - val_loss: 0.3818 - val_accuracy: 0.8409 - lr: 0.0010\n",
            "Epoch 6/100\n",
            "32/32 [==============================] - 9s 266ms/step - loss: 0.4087 - accuracy: 0.8363 - val_loss: 0.4050 - val_accuracy: 0.8352 - lr: 0.0010\n",
            "Epoch 7/100\n",
            "32/32 [==============================] - 9s 269ms/step - loss: 0.3830 - accuracy: 0.8363 - val_loss: 0.3423 - val_accuracy: 0.8466 - lr: 0.0010\n",
            "Epoch 8/100\n",
            "32/32 [==============================] - 8s 264ms/step - loss: 0.3690 - accuracy: 0.8583 - val_loss: 0.3091 - val_accuracy: 0.8693 - lr: 0.0010\n",
            "Epoch 9/100\n",
            "32/32 [==============================] - 8s 263ms/step - loss: 0.3612 - accuracy: 0.8623 - val_loss: 0.3851 - val_accuracy: 0.8352 - lr: 0.0010\n",
            "Epoch 10/100\n",
            "32/32 [==============================] - 8s 264ms/step - loss: 0.3731 - accuracy: 0.8483 - val_loss: 0.3354 - val_accuracy: 0.8750 - lr: 0.0010\n",
            "Epoch 11/100\n",
            "32/32 [==============================] - 8s 265ms/step - loss: 0.3662 - accuracy: 0.8643 - val_loss: 0.3265 - val_accuracy: 0.8636 - lr: 0.0010\n",
            "Epoch 12/100\n",
            "32/32 [==============================] - 8s 264ms/step - loss: 0.3693 - accuracy: 0.8543 - val_loss: 0.4366 - val_accuracy: 0.7955 - lr: 9.0484e-04\n",
            "Epoch 13/100\n",
            "32/32 [==============================] - 9s 271ms/step - loss: 0.3536 - accuracy: 0.8574 - val_loss: 0.3193 - val_accuracy: 0.8920 - lr: 8.1873e-04\n",
            "Epoch 14/100\n",
            "32/32 [==============================] - 8s 263ms/step - loss: 0.3591 - accuracy: 0.8583 - val_loss: 0.3188 - val_accuracy: 0.8693 - lr: 7.4082e-04\n",
            "Epoch 15/100\n",
            "32/32 [==============================] - 8s 262ms/step - loss: 0.3503 - accuracy: 0.8623 - val_loss: 0.2772 - val_accuracy: 0.8977 - lr: 6.7032e-04\n",
            "Epoch 16/100\n",
            "32/32 [==============================] - 8s 264ms/step - loss: 0.3681 - accuracy: 0.8583 - val_loss: 0.2602 - val_accuracy: 0.8977 - lr: 6.0653e-04\n",
            "Epoch 17/100\n",
            "32/32 [==============================] - 8s 262ms/step - loss: 0.3215 - accuracy: 0.8743 - val_loss: 0.3108 - val_accuracy: 0.8636 - lr: 5.4881e-04\n",
            "Epoch 18/100\n",
            "32/32 [==============================] - 8s 263ms/step - loss: 0.3292 - accuracy: 0.8842 - val_loss: 0.2790 - val_accuracy: 0.9034 - lr: 4.9659e-04\n",
            "Epoch 19/100\n",
            "32/32 [==============================] - 8s 263ms/step - loss: 0.3420 - accuracy: 0.8723 - val_loss: 0.2806 - val_accuracy: 0.8864 - lr: 4.4933e-04\n",
            "Epoch 20/100\n",
            "32/32 [==============================] - 9s 267ms/step - loss: 0.3213 - accuracy: 0.8691 - val_loss: 0.2881 - val_accuracy: 0.8864 - lr: 4.0657e-04\n",
            "Epoch 21/100\n",
            "32/32 [==============================] - 8s 262ms/step - loss: 0.3175 - accuracy: 0.8822 - val_loss: 0.2787 - val_accuracy: 0.8807 - lr: 3.6788e-04\n",
            "Epoch 22/100\n",
            "32/32 [==============================] - 8s 264ms/step - loss: 0.3106 - accuracy: 0.8762 - val_loss: 0.3845 - val_accuracy: 0.8068 - lr: 3.3287e-04\n",
            "Epoch 23/100\n",
            "32/32 [==============================] - 8s 263ms/step - loss: 0.3268 - accuracy: 0.8862 - val_loss: 0.3141 - val_accuracy: 0.8580 - lr: 3.0119e-04\n",
            "Epoch 24/100\n",
            "32/32 [==============================] - 8s 261ms/step - loss: 0.3049 - accuracy: 0.8862 - val_loss: 0.2369 - val_accuracy: 0.9148 - lr: 2.7253e-04\n",
            "Epoch 25/100\n",
            "32/32 [==============================] - 8s 263ms/step - loss: 0.3143 - accuracy: 0.8743 - val_loss: 0.2698 - val_accuracy: 0.8864 - lr: 2.4660e-04\n",
            "Epoch 26/100\n",
            "32/32 [==============================] - 8s 261ms/step - loss: 0.3098 - accuracy: 0.8782 - val_loss: 0.2557 - val_accuracy: 0.8920 - lr: 2.2313e-04\n",
            "Epoch 27/100\n",
            "32/32 [==============================] - 9s 267ms/step - loss: 0.3212 - accuracy: 0.8762 - val_loss: 0.2682 - val_accuracy: 0.8807 - lr: 2.0190e-04\n",
            "Epoch 28/100\n",
            "32/32 [==============================] - 9s 269ms/step - loss: 0.3150 - accuracy: 0.8723 - val_loss: 0.2780 - val_accuracy: 0.8920 - lr: 1.8268e-04\n",
            "Epoch 29/100\n",
            "32/32 [==============================] - 8s 262ms/step - loss: 0.3281 - accuracy: 0.8782 - val_loss: 0.2766 - val_accuracy: 0.9205 - lr: 1.6530e-04\n",
            "Epoch 30/100\n",
            "32/32 [==============================] - 8s 261ms/step - loss: 0.3214 - accuracy: 0.8828 - val_loss: 0.2637 - val_accuracy: 0.9034 - lr: 1.4957e-04\n",
            "Epoch 31/100\n",
            "32/32 [==============================] - 9s 268ms/step - loss: 0.3220 - accuracy: 0.8809 - val_loss: 0.2974 - val_accuracy: 0.8693 - lr: 1.3534e-04\n",
            "Epoch 32/100\n",
            "32/32 [==============================] - 9s 266ms/step - loss: 0.3203 - accuracy: 0.8762 - val_loss: 0.2792 - val_accuracy: 0.8977 - lr: 1.2246e-04\n",
            "Epoch 33/100\n",
            "32/32 [==============================] - 8s 261ms/step - loss: 0.3100 - accuracy: 0.8862 - val_loss: 0.3183 - val_accuracy: 0.8807 - lr: 1.1080e-04\n",
            "Epoch 34/100\n",
            "32/32 [==============================] - 8s 261ms/step - loss: 0.2847 - accuracy: 0.8902 - val_loss: 0.2231 - val_accuracy: 0.9091 - lr: 1.0026e-04\n",
            "Epoch 35/100\n",
            "32/32 [==============================] - 8s 262ms/step - loss: 0.2975 - accuracy: 0.8902 - val_loss: 0.2970 - val_accuracy: 0.8807 - lr: 9.0718e-05\n",
            "Epoch 36/100\n",
            "32/32 [==============================] - 8s 259ms/step - loss: 0.3187 - accuracy: 0.8882 - val_loss: 0.2846 - val_accuracy: 0.9091 - lr: 8.2085e-05\n",
            "Epoch 37/100\n",
            "32/32 [==============================] - 8s 260ms/step - loss: 0.3099 - accuracy: 0.8982 - val_loss: 0.2972 - val_accuracy: 0.8523 - lr: 7.4274e-05\n",
            "Epoch 38/100\n",
            "32/32 [==============================] - 8s 260ms/step - loss: 0.3218 - accuracy: 0.8762 - val_loss: 0.2823 - val_accuracy: 0.8864 - lr: 6.7206e-05\n",
            "Epoch 39/100\n",
            "32/32 [==============================] - 8s 263ms/step - loss: 0.3119 - accuracy: 0.8822 - val_loss: 0.2709 - val_accuracy: 0.8807 - lr: 6.0810e-05\n",
            "Epoch 40/100\n",
            "32/32 [==============================] - 8s 262ms/step - loss: 0.3235 - accuracy: 0.8882 - val_loss: 0.2624 - val_accuracy: 0.8977 - lr: 5.5023e-05\n",
            "Epoch 41/100\n",
            "32/32 [==============================] - 8s 265ms/step - loss: 0.3157 - accuracy: 0.8822 - val_loss: 0.2733 - val_accuracy: 0.8920 - lr: 4.9787e-05\n",
            "Epoch 42/100\n",
            "32/32 [==============================] - 8s 260ms/step - loss: 0.3049 - accuracy: 0.8822 - val_loss: 0.2671 - val_accuracy: 0.9034 - lr: 4.5049e-05\n",
            "Epoch 43/100\n",
            "32/32 [==============================] - 8s 259ms/step - loss: 0.3390 - accuracy: 0.8802 - val_loss: 0.2723 - val_accuracy: 0.9091 - lr: 4.0762e-05\n",
            "Epoch 44/100\n",
            "32/32 [==============================] - 8s 257ms/step - loss: 0.3222 - accuracy: 0.8782 - val_loss: 0.2641 - val_accuracy: 0.9091 - lr: 3.6883e-05\n",
            "Epoch 45/100\n",
            "32/32 [==============================] - 8s 258ms/step - loss: 0.2922 - accuracy: 0.8822 - val_loss: 0.2771 - val_accuracy: 0.8750 - lr: 3.3373e-05\n",
            "Epoch 46/100\n",
            "32/32 [==============================] - 8s 260ms/step - loss: 0.3085 - accuracy: 0.8902 - val_loss: 0.2677 - val_accuracy: 0.8977 - lr: 3.0197e-05\n",
            "Epoch 47/100\n",
            "32/32 [==============================] - 8s 258ms/step - loss: 0.3069 - accuracy: 0.8882 - val_loss: 0.2675 - val_accuracy: 0.8920 - lr: 2.7324e-05\n",
            "Epoch 48/100\n",
            "32/32 [==============================] - 8s 258ms/step - loss: 0.2900 - accuracy: 0.8942 - val_loss: 0.2895 - val_accuracy: 0.8864 - lr: 2.4724e-05\n",
            "Epoch 49/100\n",
            "32/32 [==============================] - 8s 259ms/step - loss: 0.2922 - accuracy: 0.9002 - val_loss: 0.2764 - val_accuracy: 0.8920 - lr: 2.2371e-05\n",
            "Epoch 50/100\n",
            "32/32 [==============================] - 8s 262ms/step - loss: 0.2947 - accuracy: 0.8922 - val_loss: 0.2913 - val_accuracy: 0.8807 - lr: 2.0242e-05\n",
            "Epoch 51/100\n",
            "32/32 [==============================] - 8s 264ms/step - loss: 0.3160 - accuracy: 0.8703 - val_loss: 0.2803 - val_accuracy: 0.8920 - lr: 1.8316e-05\n",
            "Epoch 52/100\n",
            "32/32 [==============================] - 8s 259ms/step - loss: 0.3088 - accuracy: 0.8762 - val_loss: 0.2918 - val_accuracy: 0.8636 - lr: 1.6573e-05\n",
            "Epoch 53/100\n",
            "32/32 [==============================] - 8s 259ms/step - loss: 0.3052 - accuracy: 0.8862 - val_loss: 0.2658 - val_accuracy: 0.9091 - lr: 1.4996e-05\n",
            "Epoch 54/100\n",
            "32/32 [==============================] - 8s 259ms/step - loss: 0.3020 - accuracy: 0.8922 - val_loss: 0.2631 - val_accuracy: 0.8920 - lr: 1.3569e-05\n",
            "Epoch 55/100\n",
            "32/32 [==============================] - 8s 262ms/step - loss: 0.2948 - accuracy: 0.8882 - val_loss: 0.2963 - val_accuracy: 0.8977 - lr: 1.2277e-05\n",
            "Epoch 56/100\n",
            "32/32 [==============================] - 8s 260ms/step - loss: 0.2877 - accuracy: 0.9023 - val_loss: 0.2730 - val_accuracy: 0.8977 - lr: 1.1109e-05\n",
            "Epoch 57/100\n",
            "32/32 [==============================] - 8s 260ms/step - loss: 0.3022 - accuracy: 0.8942 - val_loss: 0.2560 - val_accuracy: 0.8864 - lr: 1.0052e-05\n",
            "Epoch 58/100\n",
            "32/32 [==============================] - 8s 260ms/step - loss: 0.3154 - accuracy: 0.8842 - val_loss: 0.2575 - val_accuracy: 0.9091 - lr: 9.0953e-06\n",
            "Epoch 59/100\n",
            "32/32 [==============================] - 8s 262ms/step - loss: 0.3011 - accuracy: 0.8942 - val_loss: 0.2811 - val_accuracy: 0.8807 - lr: 8.2297e-06\n",
            "Epoch 60/100\n",
            "32/32 [==============================] - 8s 263ms/step - loss: 0.3257 - accuracy: 0.8842 - val_loss: 0.2417 - val_accuracy: 0.9034 - lr: 7.4466e-06\n",
            "Epoch 61/100\n",
            "32/32 [==============================] - 8s 259ms/step - loss: 0.3081 - accuracy: 0.8802 - val_loss: 0.2537 - val_accuracy: 0.9091 - lr: 6.7379e-06\n",
            "Epoch 62/100\n",
            "32/32 [==============================] - 8s 257ms/step - loss: 0.2908 - accuracy: 0.8962 - val_loss: 0.2957 - val_accuracy: 0.9205 - lr: 6.0967e-06\n",
            "Epoch 63/100\n",
            "32/32 [==============================] - 8s 258ms/step - loss: 0.3060 - accuracy: 0.8842 - val_loss: 0.3111 - val_accuracy: 0.8920 - lr: 5.5166e-06\n",
            "Epoch 64/100\n",
            "32/32 [==============================] - 8s 262ms/step - loss: 0.3002 - accuracy: 0.9002 - val_loss: 0.2713 - val_accuracy: 0.8977 - lr: 4.9916e-06\n",
            "Epoch 65/100\n",
            "32/32 [==============================] - 8s 258ms/step - loss: 0.3134 - accuracy: 0.8942 - val_loss: 0.2780 - val_accuracy: 0.8807 - lr: 4.5166e-06\n",
            "Epoch 66/100\n",
            "32/32 [==============================] - 8s 258ms/step - loss: 0.3027 - accuracy: 0.8862 - val_loss: 0.2857 - val_accuracy: 0.8864 - lr: 4.0868e-06\n",
            "Epoch 67/100\n",
            "32/32 [==============================] - 8s 261ms/step - loss: 0.3248 - accuracy: 0.8822 - val_loss: 0.2969 - val_accuracy: 0.8693 - lr: 3.6979e-06\n",
            "Epoch 68/100\n",
            "32/32 [==============================] - 8s 259ms/step - loss: 0.3063 - accuracy: 0.8942 - val_loss: 0.3097 - val_accuracy: 0.8807 - lr: 3.3460e-06\n",
            "Epoch 69/100\n",
            "32/32 [==============================] - 8s 262ms/step - loss: 0.3075 - accuracy: 0.8822 - val_loss: 0.2356 - val_accuracy: 0.9091 - lr: 3.0276e-06\n",
            "Epoch 70/100\n",
            "32/32 [==============================] - 8s 257ms/step - loss: 0.2933 - accuracy: 0.8862 - val_loss: 0.2202 - val_accuracy: 0.9318 - lr: 2.7394e-06\n",
            "Epoch 71/100\n",
            "32/32 [==============================] - 8s 255ms/step - loss: 0.3120 - accuracy: 0.8922 - val_loss: 0.2690 - val_accuracy: 0.8920 - lr: 2.4788e-06\n",
            "Epoch 72/100\n",
            "32/32 [==============================] - 8s 258ms/step - loss: 0.3218 - accuracy: 0.8882 - val_loss: 0.2836 - val_accuracy: 0.8864 - lr: 2.2429e-06\n",
            "Epoch 73/100\n",
            "32/32 [==============================] - 8s 257ms/step - loss: 0.3024 - accuracy: 0.9002 - val_loss: 0.2400 - val_accuracy: 0.9205 - lr: 2.0294e-06\n",
            "Epoch 74/100\n",
            "32/32 [==============================] - 8s 260ms/step - loss: 0.3186 - accuracy: 0.8782 - val_loss: 0.2639 - val_accuracy: 0.8750 - lr: 1.8363e-06\n",
            "Epoch 75/100\n",
            "32/32 [==============================] - 8s 260ms/step - loss: 0.3162 - accuracy: 0.8882 - val_loss: 0.2596 - val_accuracy: 0.8977 - lr: 1.6616e-06\n",
            "Epoch 76/100\n",
            "32/32 [==============================] - 8s 258ms/step - loss: 0.3066 - accuracy: 0.8882 - val_loss: 0.2584 - val_accuracy: 0.9205 - lr: 1.5034e-06\n",
            "Epoch 77/100\n",
            "32/32 [==============================] - 8s 256ms/step - loss: 0.3205 - accuracy: 0.8743 - val_loss: 0.2800 - val_accuracy: 0.8750 - lr: 1.3604e-06\n",
            "Epoch 78/100\n",
            "32/32 [==============================] - 8s 257ms/step - loss: 0.3198 - accuracy: 0.8762 - val_loss: 0.2912 - val_accuracy: 0.8807 - lr: 1.2309e-06\n",
            "Epoch 79/100\n",
            "32/32 [==============================] - 8s 264ms/step - loss: 0.3224 - accuracy: 0.8633 - val_loss: 0.2727 - val_accuracy: 0.8750 - lr: 1.1138e-06\n",
            "Epoch 80/100\n",
            "32/32 [==============================] - 8s 257ms/step - loss: 0.3077 - accuracy: 0.8902 - val_loss: 0.2775 - val_accuracy: 0.8977 - lr: 1.0078e-06\n",
            "Epoch 81/100\n",
            "32/32 [==============================] - 8s 258ms/step - loss: 0.3075 - accuracy: 0.8942 - val_loss: 0.2732 - val_accuracy: 0.8807 - lr: 9.1188e-07\n",
            "Epoch 82/100\n",
            "32/32 [==============================] - 8s 255ms/step - loss: 0.3046 - accuracy: 0.8882 - val_loss: 0.2623 - val_accuracy: 0.9148 - lr: 8.2510e-07\n",
            "Epoch 83/100\n",
            "32/32 [==============================] - 8s 259ms/step - loss: 0.2886 - accuracy: 0.9002 - val_loss: 0.2286 - val_accuracy: 0.9318 - lr: 7.4659e-07\n",
            "Epoch 84/100\n",
            "32/32 [==============================] - 8s 256ms/step - loss: 0.3003 - accuracy: 0.8922 - val_loss: 0.2690 - val_accuracy: 0.8920 - lr: 6.7554e-07\n",
            "Epoch 85/100\n",
            "32/32 [==============================] - 8s 257ms/step - loss: 0.3132 - accuracy: 0.8822 - val_loss: 0.2638 - val_accuracy: 0.9148 - lr: 6.1125e-07\n",
            "Epoch 86/100\n",
            "32/32 [==============================] - 8s 256ms/step - loss: 0.2969 - accuracy: 0.8942 - val_loss: 0.2360 - val_accuracy: 0.9205 - lr: 5.5308e-07\n",
            "Epoch 87/100\n",
            "32/32 [==============================] - 8s 262ms/step - loss: 0.3221 - accuracy: 0.8828 - val_loss: 0.2491 - val_accuracy: 0.9034 - lr: 5.0045e-07\n",
            "Epoch 88/100\n",
            "32/32 [==============================] - 8s 264ms/step - loss: 0.3184 - accuracy: 0.8809 - val_loss: 0.2708 - val_accuracy: 0.9091 - lr: 4.5283e-07\n",
            "Epoch 89/100\n",
            "32/32 [==============================] - 8s 259ms/step - loss: 0.2935 - accuracy: 0.8802 - val_loss: 0.2750 - val_accuracy: 0.8750 - lr: 4.0973e-07\n",
            "Epoch 90/100\n",
            "32/32 [==============================] - 8s 259ms/step - loss: 0.3082 - accuracy: 0.8922 - val_loss: 0.2749 - val_accuracy: 0.9034 - lr: 3.7074e-07\n",
            "Epoch 91/100\n",
            "32/32 [==============================] - 8s 257ms/step - loss: 0.3113 - accuracy: 0.8663 - val_loss: 0.2450 - val_accuracy: 0.8977 - lr: 3.3546e-07\n",
            "Epoch 92/100\n",
            "32/32 [==============================] - 8s 256ms/step - loss: 0.3080 - accuracy: 0.8942 - val_loss: 0.2958 - val_accuracy: 0.8864 - lr: 3.0354e-07\n",
            "Epoch 93/100\n",
            "32/32 [==============================] - 8s 255ms/step - loss: 0.3092 - accuracy: 0.8862 - val_loss: 0.2157 - val_accuracy: 0.9318 - lr: 2.7465e-07\n",
            "Epoch 94/100\n",
            "32/32 [==============================] - 8s 257ms/step - loss: 0.2972 - accuracy: 0.8942 - val_loss: 0.2744 - val_accuracy: 0.8977 - lr: 2.4852e-07\n",
            "Epoch 95/100\n",
            "32/32 [==============================] - 8s 256ms/step - loss: 0.3035 - accuracy: 0.8862 - val_loss: 0.2727 - val_accuracy: 0.8977 - lr: 2.2487e-07\n",
            "Epoch 96/100\n",
            "32/32 [==============================] - 8s 256ms/step - loss: 0.3187 - accuracy: 0.8762 - val_loss: 0.2891 - val_accuracy: 0.8977 - lr: 2.0347e-07\n",
            "Epoch 97/100\n",
            "32/32 [==============================] - 8s 259ms/step - loss: 0.3052 - accuracy: 0.8802 - val_loss: 0.2969 - val_accuracy: 0.8920 - lr: 1.8411e-07\n",
            "Epoch 98/100\n",
            "32/32 [==============================] - 8s 261ms/step - loss: 0.3156 - accuracy: 0.8683 - val_loss: 0.2924 - val_accuracy: 0.8864 - lr: 1.6659e-07\n",
            "Epoch 99/100\n",
            "32/32 [==============================] - 8s 255ms/step - loss: 0.3026 - accuracy: 0.8922 - val_loss: 0.2830 - val_accuracy: 0.8864 - lr: 1.5073e-07\n",
            "Epoch 100/100\n",
            "32/32 [==============================] - 8s 260ms/step - loss: 0.2820 - accuracy: 0.8962 - val_loss: 0.2625 - val_accuracy: 0.8920 - lr: 1.3639e-07\n"
          ],
          "name": "stdout"
        }
      ]
    },
    {
      "cell_type": "markdown",
      "metadata": {
        "id": "QUSHIDzda8UT",
        "colab_type": "text"
      },
      "source": [
        "Perfect! Our model was able to reach up to a 93% accuracy with the minimal amount of data that it was provided!"
      ]
    },
    {
      "cell_type": "code",
      "metadata": {
        "id": "_s9vTavKf9v0",
        "colab_type": "code",
        "colab": {
          "base_uri": "https://localhost:8080/",
          "height": 208
        },
        "outputId": "9fcdc358-df05-4e14-f59c-eb094de616a3"
      },
      "source": [
        "!wget https://scx2.b-cdn.net/gfx/news/2018/europeslostf.jpg"
      ],
      "execution_count": 46,
      "outputs": [
        {
          "output_type": "stream",
          "text": [
            "--2020-06-18 03:36:39--  https://scx2.b-cdn.net/gfx/news/2018/europeslostf.jpg\n",
            "Resolving scx2.b-cdn.net (scx2.b-cdn.net)... 84.17.46.50, 2a02:6ea0:c020::2\n",
            "Connecting to scx2.b-cdn.net (scx2.b-cdn.net)|84.17.46.50|:443... connected.\n",
            "HTTP request sent, awaiting response... 200 OK\n",
            "Length: 453310 (443K) [image/jpeg]\n",
            "Saving to: ‘europeslostf.jpg.1’\n",
            "\n",
            "\reuropeslostf.jpg.1    0%[                    ]       0  --.-KB/s               \reuropeslostf.jpg.1  100%[===================>] 442.69K  --.-KB/s    in 0.02s   \n",
            "\n",
            "2020-06-18 03:36:39 (22.3 MB/s) - ‘europeslostf.jpg.1’ saved [453310/453310]\n",
            "\n"
          ],
          "name": "stdout"
        }
      ]
    },
    {
      "cell_type": "code",
      "metadata": {
        "id": "I6Sd4ZRxc9cL",
        "colab_type": "code",
        "colab": {
          "base_uri": "https://localhost:8080/",
          "height": 86
        },
        "outputId": "e1cfb5ff-898f-48ae-b68a-b2559945206a"
      },
      "source": [
        "# Load in our test image\n",
        "from keras.preprocessing.image import load_img\n",
        "img = load_img('europeslostf.jpg.1', target_size=(IMG_HEIGHT, IMG_WIDTH))\n",
        "print(type(img))\n",
        "print(img.format)\n",
        "print(img.mode)\n",
        "print(img.size)"
      ],
      "execution_count": 52,
      "outputs": [
        {
          "output_type": "stream",
          "text": [
            "<class 'PIL.Image.Image'>\n",
            "None\n",
            "RGB\n",
            "(224, 224)\n"
          ],
          "name": "stdout"
        }
      ]
    },
    {
      "cell_type": "code",
      "metadata": {
        "id": "zEfZMwnrgMNQ",
        "colab_type": "code",
        "colab": {
          "base_uri": "https://localhost:8080/",
          "height": 52
        },
        "outputId": "93f3d1a6-237c-4f86-ac56-c8ea25823e05"
      },
      "source": [
        "# Convert our test image to an array\n",
        "from keras.preprocessing.image import img_to_array\n",
        "from keras.preprocessing.image import array_to_img\n",
        "\n",
        "test_img_array = img_to_array(img)\n",
        "print(test_img_array.dtype)\n",
        "print(test_img_array.shape)"
      ],
      "execution_count": 54,
      "outputs": [
        {
          "output_type": "stream",
          "text": [
            "float32\n",
            "(224, 224, 3)\n"
          ],
          "name": "stdout"
        }
      ]
    },
    {
      "cell_type": "code",
      "metadata": {
        "id": "O53aRDD-juhd",
        "colab_type": "code",
        "colab": {}
      },
      "source": [
        "test_img_array = test_img_array.reshape([1, IMG_HEIGHT, IMG_WIDTH, 3])"
      ],
      "execution_count": 62,
      "outputs": []
    },
    {
      "cell_type": "code",
      "metadata": {
        "id": "tXlo2RK9lCz5",
        "colab_type": "code",
        "colab": {
          "base_uri": "https://localhost:8080/",
          "height": 34
        },
        "outputId": "b10460f1-3ee2-4463-e985-8ce29d268857"
      },
      "source": [
        "model.predict(test_img_array)"
      ],
      "execution_count": 63,
      "outputs": [
        {
          "output_type": "execute_result",
          "data": {
            "text/plain": [
              "array([[7.197398e-17]], dtype=float32)"
            ]
          },
          "metadata": {
            "tags": []
          },
          "execution_count": 63
        }
      ]
    },
    {
      "cell_type": "code",
      "metadata": {
        "id": "BhH4VQsylmB9",
        "colab_type": "code",
        "colab": {
          "base_uri": "https://localhost:8080/",
          "height": 225
        },
        "outputId": "7c9d3c93-f675-4e2a-986a-5003a6adf81e"
      },
      "source": [
        "# Try again using an image of a mountain.\n",
        "!wget https://miro.medium.com/max/4320/1*8GDFUEsd0z8SidRfg9IljA.png"
      ],
      "execution_count": 64,
      "outputs": [
        {
          "output_type": "stream",
          "text": [
            "Warning: wildcards not supported in HTTP.\n",
            "--2020-06-18 04:02:17--  https://miro.medium.com/max/4320/1*8GDFUEsd0z8SidRfg9IljA.png\n",
            "Resolving miro.medium.com (miro.medium.com)... 104.16.121.145, 104.16.117.145, 104.16.118.145, ...\n",
            "Connecting to miro.medium.com (miro.medium.com)|104.16.121.145|:443... connected.\n",
            "HTTP request sent, awaiting response... 200 OK\n",
            "Length: 4661901 (4.4M) [image/png]\n",
            "Saving to: ‘1*8GDFUEsd0z8SidRfg9IljA.png’\n",
            "\n",
            "\r          1*8GDFUEs   0%[                    ]       0  --.-KB/s               \r1*8GDFUEsd0z8SidRfg 100%[===================>]   4.45M  27.7MB/s    in 0.2s    \n",
            "\n",
            "2020-06-18 04:02:18 (27.7 MB/s) - ‘1*8GDFUEsd0z8SidRfg9IljA.png’ saved [4661901/4661901]\n",
            "\n"
          ],
          "name": "stdout"
        }
      ]
    },
    {
      "cell_type": "code",
      "metadata": {
        "id": "DoU7jNThl3_j",
        "colab_type": "code",
        "colab": {
          "base_uri": "https://localhost:8080/",
          "height": 86
        },
        "outputId": "28acc442-9cf9-4238-ffcf-e31df48fdbbd"
      },
      "source": [
        "# Load in our mountain test image\n",
        "from keras.preprocessing.image import load_img\n",
        "mount_img = load_img('1*8GDFUEsd0z8SidRfg9IljA.png', target_size=(IMG_HEIGHT, IMG_WIDTH))\n",
        "print(type(mount_img))\n",
        "print(mount_img.format)\n",
        "print(mount_img.mode)\n",
        "print(mount_img.size)"
      ],
      "execution_count": 65,
      "outputs": [
        {
          "output_type": "stream",
          "text": [
            "<class 'PIL.Image.Image'>\n",
            "None\n",
            "RGB\n",
            "(224, 224)\n"
          ],
          "name": "stdout"
        }
      ]
    },
    {
      "cell_type": "code",
      "metadata": {
        "id": "8pS2QdP4mDxm",
        "colab_type": "code",
        "colab": {
          "base_uri": "https://localhost:8080/",
          "height": 52
        },
        "outputId": "e3811198-b4bd-4dd9-c9b2-f0eb4d9a43f6"
      },
      "source": [
        "# Convert our test image to an array\n",
        "from keras.preprocessing.image import img_to_array\n",
        "from keras.preprocessing.image import array_to_img\n",
        "\n",
        "mount_img_array = img_to_array(mount_img)\n",
        "print(mount_img_array.dtype)\n",
        "print(mount_img_array.shape)\n",
        "\n",
        "mount_img_array = mount_img_array.reshape([1, IMG_HEIGHT, IMG_WIDTH, 3])"
      ],
      "execution_count": 66,
      "outputs": [
        {
          "output_type": "stream",
          "text": [
            "float32\n",
            "(224, 224, 3)\n"
          ],
          "name": "stdout"
        }
      ]
    },
    {
      "cell_type": "code",
      "metadata": {
        "id": "0cSmRXihmQiL",
        "colab_type": "code",
        "colab": {
          "base_uri": "https://localhost:8080/",
          "height": 34
        },
        "outputId": "b2471e5c-e467-4bef-c597-f62738129e53"
      },
      "source": [
        "# Make our prediction!\n",
        "model.predict(mount_img_array)"
      ],
      "execution_count": 67,
      "outputs": [
        {
          "output_type": "execute_result",
          "data": {
            "text/plain": [
              "array([[1.]], dtype=float32)"
            ]
          },
          "metadata": {
            "tags": []
          },
          "execution_count": 67
        }
      ]
    },
    {
      "cell_type": "markdown",
      "metadata": {
        "id": "iTdqeX0NlM2A",
        "colab_type": "text"
      },
      "source": [
        "# Results\n",
        "\n",
        "Our output for the test img (a forest) is very close to zero. In our setup we are depicting forests as an output of 0, so our model correctly identified a completely new picture! Our second test fed the model a completely new picture of a mountain. Our model output 1. In our setup we are depicting mountains as an ouput of 1, so our model correctly identified a second new picture!"
      ]
    },
    {
      "cell_type": "markdown",
      "metadata": {
        "colab_type": "text",
        "id": "uT3UV3gap9H6"
      },
      "source": [
        "# Resources and Stretch Goals\n",
        "\n",
        "Stretch goals\n",
        "- Enhance your code to use classes/functions and accept terms to search and classes to look for in recognizing the downloaded images (e.g. download images of parties, recognize all that contain balloons)\n",
        "- Check out [other available pretrained networks](https://tfhub.dev), try some and compare\n",
        "- Image recognition/classification is somewhat solved, but *relationships* between entities and describing an image is not - check out some of the extended resources (e.g. [Visual Genome](https://visualgenome.org/)) on the topic\n",
        "- Transfer learning - using images you source yourself, [retrain a classifier](https://www.tensorflow.org/hub/tutorials/image_retraining) with a new category\n",
        "- (Not CNN related) Use [piexif](https://pypi.org/project/piexif/) to check out the metadata of images passed in to your system - see if they're from a national park! (Note - many images lack GPS metadata, so this won't work in most cases, but still cool)\n",
        "\n",
        "Resources\n",
        "- [Deep Residual Learning for Image Recognition](https://arxiv.org/abs/1512.03385) - influential paper (introduced ResNet)\n",
        "- [YOLO: Real-Time Object Detection](https://pjreddie.com/darknet/yolo/) - an influential convolution based object detection system, focused on inference speed (for applications to e.g. self driving vehicles)\n",
        "- [R-CNN, Fast R-CNN, Faster R-CNN, YOLO](https://towardsdatascience.com/r-cnn-fast-r-cnn-faster-r-cnn-yolo-object-detection-algorithms-36d53571365e) - comparison of object detection systems\n",
        "- [Common Objects in Context](http://cocodataset.org/) - a large-scale object detection, segmentation, and captioning dataset\n",
        "- [Visual Genome](https://visualgenome.org/) - a dataset, a knowledge base, an ongoing effort to connect structured image concepts to language"
      ]
    }
  ]
}